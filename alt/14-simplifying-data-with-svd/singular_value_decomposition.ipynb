{
 "cells": [
  {
   "cell_type": "markdown",
   "metadata": {},
   "source": [
    "# Singular Value Decomposition\n",
    "\n",
    "What it does?\n",
    "- reduce dimensionality of data\n",
    "- remove noises\n",
    "- may improve algorithm results\n",
    "- compresses data\n",
    "\n",
    "Use Cases:\n",
    "- recommendation engine (Netflix prize)\n",
    "- image compression"
   ]
  },
  {
   "cell_type": "code",
   "execution_count": 321,
   "metadata": {
    "collapsed": true
   },
   "outputs": [],
   "source": [
    "import numpy as np"
   ]
  },
  {
   "cell_type": "code",
   "execution_count": 322,
   "metadata": {
    "collapsed": false
   },
   "outputs": [
    {
     "data": {
      "text/plain": [
       "array([[-0.14142136, -0.98994949],\n",
       "       [-0.98994949,  0.14142136]])"
      ]
     },
     "execution_count": 322,
     "metadata": {},
     "output_type": "execute_result"
    }
   ],
   "source": [
    "u, sigma, vt = np.linalg.svd([[1,1], [7,7]])\n",
    "u"
   ]
  },
  {
   "cell_type": "code",
   "execution_count": 323,
   "metadata": {
    "collapsed": false
   },
   "outputs": [
    {
     "data": {
      "text/plain": [
       "array([  1.00000000e+01,   2.82797782e-16])"
      ]
     },
     "execution_count": 323,
     "metadata": {},
     "output_type": "execute_result"
    }
   ],
   "source": [
    "sigma"
   ]
  },
  {
   "cell_type": "code",
   "execution_count": 324,
   "metadata": {
    "collapsed": false
   },
   "outputs": [
    {
     "data": {
      "text/plain": [
       "array([[-0.70710678, -0.70710678],\n",
       "       [ 0.70710678, -0.70710678]])"
      ]
     },
     "execution_count": 324,
     "metadata": {},
     "output_type": "execute_result"
    }
   ],
   "source": [
    "vt"
   ]
  },
  {
   "cell_type": "code",
   "execution_count": 325,
   "metadata": {
    "collapsed": true
   },
   "outputs": [],
   "source": [
    "def load_data():\n",
    "    return [[1, 1, 1, 0, 0],\n",
    "            [2, 2, 2, 0, 0],\n",
    "            [1, 1, 1, 0, 0],\n",
    "            [5, 5, 5, 0, 0],\n",
    "            [1, 1, 0, 2, 3],\n",
    "            [0, 0, 0, 3, 3],\n",
    "            [0, 0, 0, 1, 1]]"
   ]
  },
  {
   "cell_type": "code",
   "execution_count": 326,
   "metadata": {
    "collapsed": false
   },
   "outputs": [
    {
     "data": {
      "text/plain": [
       "array([  9.72757334e+00,   5.71597993e+00,   8.37789008e-01,\n",
       "         1.19631129e-15,   6.55271165e-16])"
      ]
     },
     "execution_count": 326,
     "metadata": {},
     "output_type": "execute_result"
    }
   ],
   "source": [
    "data = load_data()\n",
    "u, sigma, vt = np.linalg.svd(data)\n",
    "sigma"
   ]
  },
  {
   "cell_type": "code",
   "execution_count": 327,
   "metadata": {
    "collapsed": false
   },
   "outputs": [
    {
     "data": {
      "text/plain": [
       "(2, 15.443553264742762)"
      ]
     },
     "execution_count": 327,
     "metadata": {},
     "output_type": "execute_result"
    }
   ],
   "source": [
    "# How many singular values to keep? Keep 90% of it.\n",
    "# To calculate the total energy, add up all the squared singular value until you reach 90% of the value.\n",
    "\n",
    "total_energy = np.sum(sigma)\n",
    "current_energy = 0\n",
    "singular_values = 0\n",
    "for i, v in enumerate(sigma):\n",
    "    current_energy += v\n",
    "    if current_energy/total_energy >= 0.9:\n",
    "        singular_values = i + 1\n",
    "        break\n",
    "\n",
    "singular_values, current_energy"
   ]
  },
  {
   "cell_type": "code",
   "execution_count": 328,
   "metadata": {
    "collapsed": false
   },
   "outputs": [],
   "source": [
    "# sig3 = np.mat([[sigma[0], 0, 0], [0, sigma[1], 0], [0, 0, sigma[2]]])\n",
    "# sig3"
   ]
  },
  {
   "cell_type": "code",
   "execution_count": 329,
   "metadata": {
    "collapsed": false
   },
   "outputs": [
    {
     "data": {
      "text/plain": [
       "matrix([[ 9.72757334,  0.        ,  0.        ],\n",
       "        [ 0.        ,  5.71597993,  0.        ],\n",
       "        [ 0.        ,  0.        ,  0.83778901]])"
      ]
     },
     "execution_count": 329,
     "metadata": {},
     "output_type": "execute_result"
    }
   ],
   "source": [
    "sig3 = np.mat(np.diag(sigma[:3]))\n",
    "sig3"
   ]
  },
  {
   "cell_type": "code",
   "execution_count": 330,
   "metadata": {
    "collapsed": false
   },
   "outputs": [
    {
     "data": {
      "text/plain": [
       "matrix([[  1.00000000e+00,   1.00000000e+00,   1.00000000e+00,\n",
       "          -1.09705447e-16,  -4.76181594e-16],\n",
       "        [  2.00000000e+00,   2.00000000e+00,   2.00000000e+00,\n",
       "           1.29675384e-16,   1.63064007e-16],\n",
       "        [  1.00000000e+00,   1.00000000e+00,   1.00000000e+00,\n",
       "           1.15307731e-15,   2.49800181e-15],\n",
       "        [  5.00000000e+00,   5.00000000e+00,   5.00000000e+00,\n",
       "          -4.67654843e-17,   9.71445147e-17],\n",
       "        [  1.00000000e+00,   1.00000000e+00,   5.71838092e-16,\n",
       "           2.00000000e+00,   3.00000000e+00],\n",
       "        [ -9.33966978e-17,  -3.43623221e-16,   7.05773396e-16,\n",
       "           3.00000000e+00,   3.00000000e+00],\n",
       "        [ -2.77555756e-17,  -1.31838984e-16,   2.35922393e-16,\n",
       "           1.00000000e+00,   1.00000000e+00]])"
      ]
     },
     "execution_count": 330,
     "metadata": {},
     "output_type": "execute_result"
    }
   ],
   "source": [
    "u[:,:3] * sig3 * vt[:3,:]"
   ]
  },
  {
   "cell_type": "code",
   "execution_count": 331,
   "metadata": {
    "collapsed": true
   },
   "outputs": [],
   "source": [
    "def euclidean(a, b):\n",
    "    return 1.0 / (1.0 + np.linalg.norm(a - b))\n",
    "\n",
    "def pearson(a, b):\n",
    "    if len(a) < 3: return 1\n",
    "    return 0.5 + 0.5 * np.corrcoef(a, b, rowvar = 0)[0][1]\n",
    "\n",
    "def cosine(a, b):\n",
    "    num = float(a.T * b)\n",
    "    den = np.linalg.norm(a) * np.linalg.norm(b)\n",
    "    return 0.5 + 0.5 * num / den"
   ]
  },
  {
   "cell_type": "code",
   "execution_count": 332,
   "metadata": {
    "collapsed": false
   },
   "outputs": [
    {
     "data": {
      "text/plain": [
       "0.12973190755680383"
      ]
     },
     "execution_count": 332,
     "metadata": {},
     "output_type": "execute_result"
    }
   ],
   "source": [
    "data = np.mat(load_data())\n",
    "euclidean(data[:, 0], data[:, 4])"
   ]
  },
  {
   "cell_type": "code",
   "execution_count": 333,
   "metadata": {
    "collapsed": false
   },
   "outputs": [
    {
     "data": {
      "text/plain": [
       "1.0"
      ]
     },
     "execution_count": 333,
     "metadata": {},
     "output_type": "execute_result"
    }
   ],
   "source": [
    "euclidean(data[:, 0], data[:, 0])"
   ]
  },
  {
   "cell_type": "code",
   "execution_count": 334,
   "metadata": {
    "collapsed": false
   },
   "outputs": [
    {
     "data": {
      "text/plain": [
       "0.56083303292403597"
      ]
     },
     "execution_count": 334,
     "metadata": {},
     "output_type": "execute_result"
    }
   ],
   "source": [
    "cosine(data[:, 0], data[:, 4])"
   ]
  },
  {
   "cell_type": "code",
   "execution_count": 335,
   "metadata": {
    "collapsed": false
   },
   "outputs": [
    {
     "data": {
      "text/plain": [
       "0.99999999999999989"
      ]
     },
     "execution_count": 335,
     "metadata": {},
     "output_type": "execute_result"
    }
   ],
   "source": [
    "cosine(data[:, 0], data[:, 0])"
   ]
  },
  {
   "cell_type": "code",
   "execution_count": 336,
   "metadata": {
    "collapsed": false
   },
   "outputs": [
    {
     "data": {
      "text/plain": [
       "0.25994232323867872"
      ]
     },
     "execution_count": 336,
     "metadata": {},
     "output_type": "execute_result"
    }
   ],
   "source": [
    "pearson(data[:, 0], data[:, 4])"
   ]
  },
  {
   "cell_type": "code",
   "execution_count": 337,
   "metadata": {
    "collapsed": false
   },
   "outputs": [
    {
     "data": {
      "text/plain": [
       "1.0"
      ]
     },
     "execution_count": 337,
     "metadata": {},
     "output_type": "execute_result"
    }
   ],
   "source": [
    "pearson(data[:, 0], data[:, 0])"
   ]
  },
  {
   "cell_type": "code",
   "execution_count": 338,
   "metadata": {
    "collapsed": true
   },
   "outputs": [],
   "source": [
    "def standard_estimator(data, user, similarity_class, item):\n",
    "    n = np.shape(data)[1]\n",
    "#     print('shape:', np.shape(data))\n",
    "    similarity_score = 0\n",
    "    rating_similarity_score = 0\n",
    "    for j in range(n):\n",
    "        user_rating = data[user, j]\n",
    "#         print('user_rating: {}'.format(user_rating))\n",
    "        if user_rating == 0:\n",
    "            continue\n",
    "        \n",
    "#         print('item and column: {} {}'.format(data[:, item], data[:,j]))\n",
    "        overlap = np.nonzero(np.logical_and(data[:, item].A > 0,\n",
    "                                            data[:, j].A > 0))[0]\n",
    "#         print('overlap: {}'.format(overlap))\n",
    "        \n",
    "        if len(overlap) == 0:\n",
    "            score = 0\n",
    "        else:\n",
    "            score = similarity_class(data[overlap, item], data[overlap, j])\n",
    "        \n",
    "        print('the {} and {} similarity is {}'.format(item, j, score))\n",
    "        print()\n",
    "        \n",
    "        similarity_score += score\n",
    "        rating_similarity_score += score * user_rating\n",
    "    if similarity_score == 0:\n",
    "        return 0\n",
    "    else:\n",
    "        return rating_similarity_score / similarity_score"
   ]
  },
  {
   "cell_type": "code",
   "execution_count": 339,
   "metadata": {
    "collapsed": true
   },
   "outputs": [],
   "source": [
    "def recommend(data, user, N = 3, similarity_class = cosine, estimator = standard_estimator):\n",
    "    unrated_items = np.nonzero(data[user, :].A == 0)[1]\n",
    "    if len(unrated_items) == 0:\n",
    "        return 'you rated everything'\n",
    "    item_scores = []\n",
    "    for item in unrated_items:\n",
    "        estimated_score = estimator(data, user, similarity_class, item)\n",
    "        item_scores.append((item, estimated_score))\n",
    "    return sorted(item_scores, key = lambda x: x[1], reverse = True)[:N]"
   ]
  },
  {
   "cell_type": "code",
   "execution_count": 340,
   "metadata": {
    "collapsed": false
   },
   "outputs": [],
   "source": [
    "data = np.matrix([[4, 4, 0, 2, 2],\n",
    "                   [4, 0, 0, 3, 3],\n",
    "                   [4, 0, 0, 1, 1],\n",
    "                   [1, 1, 1, 2, 0],\n",
    "                   [2, 2, 2, 0, 0],\n",
    "                   [1, 1, 1, 0, 0],\n",
    "                   [5, 5, 5, 0, 0]])"
   ]
  },
  {
   "cell_type": "code",
   "execution_count": 341,
   "metadata": {
    "collapsed": false
   },
   "outputs": [
    {
     "name": "stdout",
     "output_type": "stream",
     "text": [
      "the 1 and 0 similarity is 1.0\n",
      "\n",
      "the 1 and 3 similarity is 0.928746462856272\n",
      "\n",
      "the 1 and 4 similarity is 1.0\n",
      "\n",
      "the 2 and 0 similarity is 1.0\n",
      "\n",
      "the 2 and 3 similarity is 1.0\n",
      "\n",
      "the 2 and 4 similarity is 0\n",
      "\n"
     ]
    },
    {
     "data": {
      "text/plain": [
       "[(2, 2.5), (1, 2.0243290220056256)]"
      ]
     },
     "execution_count": 341,
     "metadata": {},
     "output_type": "execute_result"
    }
   ],
   "source": [
    "recommend(data, 2)"
   ]
  },
  {
   "cell_type": "code",
   "execution_count": 344,
   "metadata": {
    "collapsed": false
   },
   "outputs": [],
   "source": [
    "def svd_estimator(data, user, similarity_class, item):\n",
    "    n = np.shape(data)[1]\n",
    "    similarity_total = 0\n",
    "    rating_similarity_total = 0\n",
    "    u, sigma, vt = np.linalg.svd(data)\n",
    "    sig4 = np.mat(np.eye(4) * sigma[:4])\n",
    "    xformed_items = data.T * u[:, :4] * sig4.I\n",
    "    for j in range(n):\n",
    "        user_rating = data[user, j]\n",
    "        if user_rating == 0 or j == item:\n",
    "            continue\n",
    "        score = similarity_class(xformed_items[item, :].T, \n",
    "                                 xformed_items[j, :].T)\n",
    "        print('the {} and {} similarity is {:.3f}'.format(item, j, score))\n",
    "        similarity_total += score\n",
    "        rating_similarity_total += score * user_rating\n",
    "    if similarity_total == 0:\n",
    "        return 0\n",
    "    else:\n",
    "        return rating_similarity_total / similarity_total"
   ]
  },
  {
   "cell_type": "code",
   "execution_count": 371,
   "metadata": {
    "collapsed": false
   },
   "outputs": [],
   "source": [
    "data = np.mat([[0, 0, 0, 0, 0, 4, 0, 0, 0, 0, 5],\n",
    "               [0, 0, 0, 3, 0, 4, 0, 0, 0, 0, 3],\n",
    "               [0, 0, 0, 0, 4, 0, 0, 1, 0, 4, 0],\n",
    "               [3, 3, 4, 0, 0, 0, 0, 2, 2, 0, 0],\n",
    "               [5, 4, 5, 0, 0, 0, 0, 5, 5, 0, 0],\n",
    "               [0, 0, 0, 0, 5, 0, 1, 0, 0, 5, 0],\n",
    "               [4, 3, 4, 0, 0, 0, 0, 5, 5, 0, 1],\n",
    "               [0, 0, 0, 4, 0, 4, 0, 0, 0, 0, 4],\n",
    "               [0, 0, 0, 2, 0, 2, 5, 0, 0, 1, 2],\n",
    "               [0, 0, 0, 0, 5, 0, 0, 0, 0, 4, 0],\n",
    "               [1, 0, 0, 0, 0, 0, 0, 1, 2, 0, 0]])"
   ]
  },
  {
   "cell_type": "code",
   "execution_count": 376,
   "metadata": {
    "collapsed": false
   },
   "outputs": [
    {
     "name": "stdout",
     "output_type": "stream",
     "text": [
      "target: 487.7999999999993\n"
     ]
    },
    {
     "data": {
      "text/plain": [
       "500.50028912757909"
      ]
     },
     "execution_count": 376,
     "metadata": {},
     "output_type": "execute_result"
    }
   ],
   "source": [
    "u, sigma, vt = np.linalg.svd(np.mat(data))\n",
    "sigma_square = sigma ** 2\n",
    "target = np.sum(sigma_square) * 0.9\n",
    "print('target: {}'.format(target))\n",
    "np.sum(sigma_square[:3])"
   ]
  },
  {
   "cell_type": "code",
   "execution_count": 377,
   "metadata": {
    "collapsed": false
   },
   "outputs": [
    {
     "name": "stdout",
     "output_type": "stream",
     "text": [
      "the 0 and 3 similarity is 0.491\n",
      "the 0 and 5 similarity is 0.484\n",
      "the 0 and 10 similarity is 0.513\n",
      "the 1 and 3 similarity is 0.491\n",
      "the 1 and 5 similarity is 0.482\n",
      "the 1 and 10 similarity is 0.510\n",
      "the 2 and 3 similarity is 0.492\n",
      "the 2 and 5 similarity is 0.482\n",
      "the 2 and 10 similarity is 0.511\n",
      "the 4 and 3 similarity is 0.450\n",
      "the 4 and 5 similarity is 0.507\n",
      "the 4 and 10 similarity is 0.513\n",
      "the 6 and 3 similarity is 0.744\n",
      "the 6 and 5 similarity is 0.468\n",
      "the 6 and 10 similarity is 0.439\n",
      "the 7 and 3 similarity is 0.482\n",
      "the 7 and 5 similarity is 0.495\n",
      "the 7 and 10 similarity is 0.525\n",
      "the 8 and 3 similarity is 0.491\n",
      "the 8 and 5 similarity is 0.491\n",
      "the 8 and 10 similarity is 0.520\n",
      "the 9 and 3 similarity is 0.522\n",
      "the 9 and 5 similarity is 0.496\n",
      "the 9 and 10 similarity is 0.494\n"
     ]
    },
    {
     "data": {
      "text/plain": [
       "[(4, 3.3447149384692278), (7, 3.3294020724526971), (9, 3.3281008763900686)]"
      ]
     },
     "execution_count": 377,
     "metadata": {},
     "output_type": "execute_result"
    }
   ],
   "source": [
    "recommend(data = data, user = 1, estimator = svd_estimator, similarity_class = cosine)"
   ]
  }
 ],
 "metadata": {
  "kernelspec": {
   "display_name": "Python 3",
   "language": "python",
   "name": "python3"
  },
  "language_info": {
   "codemirror_mode": {
    "name": "ipython",
    "version": 3
   },
   "file_extension": ".py",
   "mimetype": "text/x-python",
   "name": "python",
   "nbconvert_exporter": "python",
   "pygments_lexer": "ipython3",
   "version": "3.6.4"
  }
 },
 "nbformat": 4,
 "nbformat_minor": 2
}
