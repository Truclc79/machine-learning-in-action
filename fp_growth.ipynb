{
 "cells": [
  {
   "cell_type": "code",
   "execution_count": 5,
   "metadata": {},
   "outputs": [],
   "source": [
    "from typing import List, Dict, FrozenSet\n",
    "\n",
    "from graphviz import Digraph"
   ]
  },
  {
   "cell_type": "code",
   "execution_count": 6,
   "metadata": {},
   "outputs": [],
   "source": [
    "def parse_data(data: List[str]) -> Dict[FrozenSet[str], int]:\n",
    "    \"\"\"\n",
    "    Takes an array of transactions data and remove duplicate items in each\n",
    "    row as well as removing duplicate rows.\n",
    "    \n",
    "    Parameters\n",
    "    ----------\n",
    "    data: [transactions:items]\n",
    "        An array of items/transaction ids to identify the items.\n",
    "    \n",
    "    Returns\n",
    "    -------\n",
    "    result: \n",
    "        A dictionary of the compressed data.\n",
    "    \"\"\"\n",
    "    result = {}\n",
    "    for row in data:\n",
    "        # Remove duplicate items from the row.\n",
    "        # Also automatically orders the items alphabetically.\n",
    "        unique = frozenset(row)\n",
    "        # Remove duplicate rows.\n",
    "        result[unique] = result.get(unique, 0) + 1\n",
    "    return result"
   ]
  },
  {
   "cell_type": "code",
   "execution_count": 7,
   "metadata": {},
   "outputs": [
    {
     "data": {
      "text/plain": [
       "{frozenset({'h', 'j', 'p', 'r', 'z'}): 1,\n",
       " frozenset({'s', 't', 'u', 'v', 'w', 'x', 'y', 'z'}): 1,\n",
       " frozenset({'z'}): 1,\n",
       " frozenset({'n', 'o', 'r', 's', 'x'}): 1,\n",
       " frozenset({'p', 'q', 'r', 't', 'x', 'y', 'z'}): 1,\n",
       " frozenset({'e', 'm', 'q', 's', 't', 'x', 'y', 'z'}): 1}"
      ]
     },
     "execution_count": 7,
     "metadata": {},
     "output_type": "execute_result"
    }
   ],
   "source": [
    "data = [['r', 'z', 'h', 'j', 'p'],\n",
    "        ['z', 'y', 'x', 'w', 'v', 'u', 't', 's'],\n",
    "        ['z'],\n",
    "        ['r', 'x', 'n', 'o', 's'],\n",
    "        ['y', 'r', 'x', 'z', 'q', 't', 'p'],\n",
    "        ['y', 'z', 'x', 'e', 'q', 's', 't', 'm']]\n",
    "data = parse_data(data)\n",
    "data"
   ]
  },
  {
   "cell_type": "code",
   "execution_count": 8,
   "metadata": {},
   "outputs": [],
   "source": [
    "class Node:\n",
    "    count = 0\n",
    "    def __init__(self, item, parent, count=1):\n",
    "        self.item = item\n",
    "        self.count = count\n",
    "        self.children = {}\n",
    "        self.parent = parent\n",
    "        self.node_link = None\n",
    "\n",
    "    def incr(self, count: int):\n",
    "        self.count += count\n",
    "        \n",
    "    def print(self, depth=0, spacing=2):\n",
    "        print(' ' * depth * spacing, str(self))\n",
    "        for child in self.children.values():\n",
    "            child.print(depth + 1)\n",
    "            \n",
    "    def __str__(self):\n",
    "        return f'{self.item}:{self.count}'\n",
    "    \n",
    "    def last(self):\n",
    "        \"\"\"\n",
    "        Traverse through all the node_link and return the last node.\"\"\"\n",
    "        curr = self\n",
    "        while curr.node_link is not None:\n",
    "            curr = curr.node_link\n",
    "        return curr\n",
    "\n",
    "#     def print_graphviz(self):\n",
    "#         dot = Digraph()\n",
    "#         queue = [self]\n",
    "\n",
    "#         while len(queue) > 0:\n",
    "#             edges, queue = queue[0], queue[1:]\n",
    "#             if edges is None: continue\n",
    "#             for edge in edges.children.values():\n",
    "#                 dot.edge(str(edges), str(edge))\n",
    "#                 queue.append(edge)\n",
    "\n",
    "#         return dot"
   ]
  },
  {
   "cell_type": "code",
   "execution_count": 9,
   "metadata": {},
   "outputs": [],
   "source": [
    "class FrequentItemHeader:\n",
    "    \"\"\"\n",
    "    FrequentItemHeader stores the item name\n",
    "    and the node link pointing to the node with\n",
    "    the same name.\n",
    "    \"\"\"\n",
    "    def __init__(self, frequent_items):\n",
    "        self.node_links = {}\n",
    "        self.frequent_items = frequent_items\n",
    "        \n",
    "    def link(self, node):\n",
    "        if node is None: return\n",
    "        if node.item in self.node_links:\n",
    "            last_node = self.node_links[node.item].last()\n",
    "            last_node.node_link = node\n",
    "        else:\n",
    "            self.node_links[node.item] = node"
   ]
  },
  {
   "cell_type": "code",
   "execution_count": 10,
   "metadata": {},
   "outputs": [],
   "source": [
    "def construct_fp_tree(data, min_support=3):\n",
    "    # Collect the frequent items.\n",
    "    freq_items = {}\n",
    "    for row, count in data.items():\n",
    "        for item in row:\n",
    "            freq_items[item] = freq_items.get(item, 0) + count\n",
    "            \n",
    "    # Remove items that are below the minimum support.\n",
    "    for key in list(freq_items):\n",
    "        if freq_items[key] < min_support:\n",
    "            del(freq_items[key])\n",
    "\n",
    "    # Sort by value (count), followed by the key. \n",
    "    # This key sorting does not have impact on the result,\n",
    "    # a (...lambda t: t[1], reverse=True) will produce the \n",
    "    # same outcome.\n",
    "    frequent_item_list = sorted(freq_items.items(), \n",
    "                                key=lambda t: (-t[1], t[0]))\n",
    "\n",
    "    # Create the header that links similar nodes.\n",
    "    frequent_item_header = FrequentItemHeader(frequent_item_list)\n",
    "    \n",
    "    def insert_tree(tree, items, count):\n",
    "        \"\"\"\n",
    "        Inserts the next item to the current tree as the next node.\n",
    "        \n",
    "        Parameters\n",
    "        ----------\n",
    "        tree: Node\n",
    "            The parent node.\n",
    "        items:\n",
    "            The items in the current transaction.\n",
    "        count: int\n",
    "            The number of times the transactions appear in the database.\n",
    "        \"\"\"\n",
    "        if len(items) == 0: return\n",
    "        item, items = items[0], items[1:]\n",
    "        if item in tree.children:\n",
    "            # Increment the count if the children exist.\n",
    "            tree.children[item].incr(count)\n",
    "        else:\n",
    "            # Create a new node and link back to the parent.\n",
    "            tree.children[item] = Node(item, tree, count)\n",
    "            \n",
    "            # Node-link the header.\n",
    "            frequent_item_header.link(tree.children[item])\n",
    "        \n",
    "        # If there are items, recursively add them.\n",
    "        if len(items) > 0:\n",
    "            insert_tree(tree.children[item], items, count)\n",
    "\n",
    "    # Create the root of the FP-tree.\n",
    "    root = Node(None, None)\n",
    "    for row, count in data.items():\n",
    "        # Sort them in ascending order to the frequent items list.\n",
    "        items = [item \n",
    "                 for item, count in frequent_item_list\n",
    "                 if item in row]\n",
    "        insert_tree(root, items, count)\n",
    "    return root, frequent_item_header"
   ]
  },
  {
   "cell_type": "code",
   "execution_count": 11,
   "metadata": {},
   "outputs": [],
   "source": [
    "def ascend_tree(node):\n",
    "    paths = []\n",
    "    \n",
    "    while node and node.parent:\n",
    "        paths.append(node.item)\n",
    "        node = node.parent\n",
    "\n",
    "    return paths\n",
    "    \n",
    "def traverse_node_link(node):\n",
    "    conditional_patterns = {}\n",
    "\n",
    "    while node is not None:\n",
    "        patterns = ascend_tree(node)\n",
    "        freqitems = frozenset(patterns[1:])\n",
    "        conditional_patterns[freqitems] = conditional_patterns.get(freqitems, 0) + node.count\n",
    "        node = node.node_link\n",
    "\n",
    "    return conditional_patterns\n",
    "\n",
    "# Start mining from the bottom of the tree.\n",
    "def mine_tree(header, tree, prefix_base=set(), result=[], minimum_support=3):\n",
    "    # Traverse from the bottom - the ones with the least count.\n",
    "    prefixes = sorted(header.frequent_items,\n",
    "                      key=lambda t: t[1])\n",
    "\n",
    "    for prefix, _count in prefixes:\n",
    "        # Create a copy so that the original prefix is not affected.\n",
    "        prefixset = prefix_base.copy()\n",
    "        prefixset.add(prefix)\n",
    "        \n",
    "        # Found a pattern.\n",
    "        result.append(prefixset)\n",
    "        \n",
    "        node_link = header.node_links[prefix]\n",
    "        conditional_patterns = traverse_node_link(node_link)\n",
    "        subtree, subheader = construct_fp_tree(conditional_patterns, minimum_support)\n",
    "        mine_tree(subheader, subtree, prefixset, result)"
   ]
  },
  {
   "cell_type": "code",
   "execution_count": 12,
   "metadata": {},
   "outputs": [],
   "source": [
    "tree, header = construct_fp_tree(data)\n",
    "# tree.print_graphviz()"
   ]
  },
  {
   "cell_type": "code",
   "execution_count": 13,
   "metadata": {},
   "outputs": [
    {
     "name": "stdout",
     "output_type": "stream",
     "text": [
      " None:1\n",
      "   z:5\n",
      "     r:1\n",
      "     x:3\n",
      "       s:2\n",
      "         t:2\n",
      "           y:2\n",
      "       r:1\n",
      "         t:1\n",
      "           y:1\n",
      "   x:1\n",
      "     r:1\n",
      "       s:1\n"
     ]
    }
   ],
   "source": [
    "tree.print()"
   ]
  },
  {
   "cell_type": "code",
   "execution_count": 14,
   "metadata": {},
   "outputs": [
    {
     "data": {
      "text/plain": [
       "[('z', 5), ('x', 4), ('r', 3), ('s', 3), ('t', 3), ('y', 3)]"
      ]
     },
     "execution_count": 14,
     "metadata": {},
     "output_type": "execute_result"
    }
   ],
   "source": [
    "header.frequent_items"
   ]
  },
  {
   "cell_type": "code",
   "execution_count": 15,
   "metadata": {},
   "outputs": [
    {
     "data": {
      "text/plain": [
       "True"
      ]
     },
     "execution_count": 15,
     "metadata": {},
     "output_type": "execute_result"
    }
   ],
   "source": [
    "result = []\n",
    "mine_tree(header, tree, set(), result)\n",
    "\n",
    "target = [{'r'},\n",
    "  {'s'},\n",
    "  {'s', 'x'},\n",
    "  {'y'},\n",
    "  {'x', 'y'},\n",
    "  {'y', 'z'},\n",
    "  {'x', 'y', 'z'},\n",
    "  {'t'},\n",
    "  {'t', 'x'},\n",
    "  {'t', 'y'},\n",
    "  {'t', 'x', 'y'},\n",
    "  {'t', 'z'},\n",
    "  {'t', 'x', 'z'},\n",
    "  {'t', 'y', 'z'},\n",
    "  {'t', 'x', 'y', 'z'},\n",
    "  {'x'},\n",
    "  {'x', 'z'},\n",
    "  {'z'}]\n",
    "\n",
    "def compare_sets(a, b):\n",
    "    return all([i \n",
    "                for i in a \n",
    "                if i in b])\n",
    "compare_sets(result, target) "
   ]
  },
  {
   "cell_type": "code",
   "execution_count": 16,
   "metadata": {},
   "outputs": [
    {
     "data": {
      "text/plain": [
       "True"
      ]
     },
     "execution_count": 16,
     "metadata": {},
     "output_type": "execute_result"
    }
   ],
   "source": [
    "data = [['a', 'b'],\n",
    "        ['b', 'c', 'd'],\n",
    "        ['a', 'c', 'd', 'e'],\n",
    "        ['a', 'd', 'e'],\n",
    "        ['a', 'b', 'c'],\n",
    "        ['a', 'b', 'c', 'd'],\n",
    "        ['b', 'c'],\n",
    "        ['a', 'b', 'c'],\n",
    "        ['a', 'b', 'd'],\n",
    "        ['b', 'c', 'e']]\n",
    "data = parse_data(data)\n",
    "tree, header = construct_fp_tree(data)\n",
    "result = []\n",
    "mine_tree(header, tree, set(), result)\n",
    "result\n",
    "\n",
    "target = [{'e'}, \n",
    "          {'d', 'e'},\n",
    "          {'a', 'd', 'e'},\n",
    "          {'c', 'e'},\n",
    "          {'a', 'e'},\n",
    "          {'d'},\n",
    "          {'c', 'd'},\n",
    "          {'b', 'c', 'd'},\n",
    "          {'a', 'c', 'd'},\n",
    "          {'b', 'd'},\n",
    "          {'a', 'b', 'd'},\n",
    "          {'a', 'd'},\n",
    "          {'c'},\n",
    "          {'b', 'c'},\n",
    "          {'a', 'b', 'c'},\n",
    "          {'a', 'c'},\n",
    "          {'b'},\n",
    "          {'a', 'b'},\n",
    "          {'a'}]\n",
    "compare_sets(result, target)"
   ]
  },
  {
   "cell_type": "code",
   "execution_count": 17,
   "metadata": {},
   "outputs": [
    {
     "name": "stdout",
     "output_type": "stream",
     "text": [
      " None:1\n",
      "   b:8\n",
      "     a:5\n",
      "       c:3\n",
      "         d:1\n",
      "       d:1\n",
      "     c:3\n",
      "       d:1\n",
      "       e:1\n",
      "   a:2\n",
      "     c:1\n",
      "       d:1\n",
      "         e:1\n",
      "     d:1\n",
      "       e:1\n"
     ]
    }
   ],
   "source": [
    "tree.print()"
   ]
  },
  {
   "cell_type": "code",
   "execution_count": null,
   "metadata": {},
   "outputs": [],
   "source": []
  }
 ],
 "metadata": {
  "kernelspec": {
   "display_name": "Python 3",
   "language": "python",
   "name": "python3"
  },
  "language_info": {
   "codemirror_mode": {
    "name": "ipython",
    "version": 3
   },
   "file_extension": ".py",
   "mimetype": "text/x-python",
   "name": "python",
   "nbconvert_exporter": "python",
   "pygments_lexer": "ipython3",
   "version": "3.7.3"
  }
 },
 "nbformat": 4,
 "nbformat_minor": 2
}
