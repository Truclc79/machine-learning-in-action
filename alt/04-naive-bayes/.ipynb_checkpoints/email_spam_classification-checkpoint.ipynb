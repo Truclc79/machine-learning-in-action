{
 "cells": [
  {
   "cell_type": "code",
   "execution_count": 1,
   "metadata": {
    "collapsed": true
   },
   "outputs": [],
   "source": [
    "import re\n",
    "import codecs\n",
    "import unittest\n",
    "import random\n",
    "\n",
    "import numpy as np\n",
    "from naive_bayes import create_vocab_list, word2vec, create_train_matrix, train_naive_bayes, classify_naive_bayes"
   ]
  },
  {
   "cell_type": "code",
   "execution_count": 2,
   "metadata": {
    "collapsed": true
   },
   "outputs": [],
   "source": [
    "def load_email_text(number):\n",
    "    full_text = []\n",
    "    with codecs.open('email/ham/{}.txt'.format(number), 'r', encoding = 'utf-8', errors = 'ignore') as f:\n",
    "        full_text = f.read()\n",
    "        f.close()\n",
    "    return full_text"
   ]
  },
  {
   "cell_type": "code",
   "execution_count": 3,
   "metadata": {
    "collapsed": true
   },
   "outputs": [],
   "source": [
    "def parse_text(text):\n",
    "    import re\n",
    "    tokens = re.split(r'\\W*', text)\n",
    "    return [tok.lower() for tok in tokens if len(tok) > 2]"
   ]
  },
  {
   "cell_type": "code",
   "execution_count": 9,
   "metadata": {
    "collapsed": false
   },
   "outputs": [
    {
     "name": "stderr",
     "output_type": "stream",
     "text": [
      "./usr/local/Cellar/python3/3.6.4_2/Frameworks/Python.framework/Versions/3.6/lib/python3.6/re.py:212: FutureWarning: split() requires a non-empty pattern match.\n",
      "  return _compile(pattern, flags).split(string, maxsplit)\n",
      ".."
     ]
    },
    {
     "name": "stdout",
     "output_type": "stream",
     "text": [
      "error rate: 1.0\n"
     ]
    },
    {
     "name": "stderr",
     "output_type": "stream",
     "text": [
      "\n",
      "----------------------------------------------------------------------\n",
      "Ran 3 tests in 0.043s\n",
      "\n",
      "OK\n"
     ]
    }
   ],
   "source": [
    "class EmailSpamTestCase(unittest.TestCase):\n",
    "    def test_parse_text(self):\n",
    "        params = 'This is Mr. Tan.'\n",
    "        expected = ['this', 'tan']\n",
    "        got = parse_text(params)\n",
    "        self.assertEqual(expected, got)\n",
    "    \n",
    "    def test_load_email_text(self):\n",
    "        email_text = load_email_text(1)\n",
    "        self.assertTrue(len(email_text) > 0)\n",
    "    \n",
    "    def test_spam(self):\n",
    "        docs = []\n",
    "        classes = []\n",
    "        full_text = []\n",
    "        \n",
    "        for i in range(1, 26):\n",
    "            word_list = parse_text(load_email_text(i))\n",
    "            docs.append(word_list)\n",
    "            full_text.extend(word_list)\n",
    "            classes.append(1)\n",
    "\n",
    "            docs.append(word_list)\n",
    "            full_text.extend(word_list)\n",
    "            classes.append(0)\n",
    "\n",
    "        vocabs = create_vocab_list(docs)\n",
    "        train_set = list(range(50))\n",
    "        test_set = []\n",
    "        \n",
    "        for i in range(10):\n",
    "            rand_index = int(random.uniform(0, len(train_set)))\n",
    "            test_set.append(train_set[rand_index])\n",
    "            del train_set[rand_index]\n",
    "        \n",
    "        train_matrix = []\n",
    "        train_classes = []\n",
    "        \n",
    "        for doc_index in train_set:\n",
    "            train_matrix.append(word2vec(vocabs, docs[doc_index]))\n",
    "            train_classes.append(classes[doc_index])\n",
    "        \n",
    "        p0, p1, p_spam = train_naive_bayes(train_matrix, train_classes)\n",
    "        error_count = 0\n",
    "        \n",
    "        for doc_index in test_set:\n",
    "            word_vec = word2vec(vocabs, docs[doc_index])\n",
    "            if classify_naive_bayes(word_vec, p0, p1, p_spam) != classes[doc_index]:\n",
    "                error_count += 1\n",
    "        print('error rate: {}'.format(float(error_count)/ len(test_set)))\n",
    "        \n",
    "        \n",
    "\n",
    "if __name__ == '__main__':\n",
    "    unittest.main(argv = ['first-arg-is-ignored'], exit = False)"
   ]
  }
 ],
 "metadata": {
  "kernelspec": {
   "display_name": "Python 3",
   "language": "python",
   "name": "python3"
  },
  "language_info": {
   "codemirror_mode": {
    "name": "ipython",
    "version": 3
   },
   "file_extension": ".py",
   "mimetype": "text/x-python",
   "name": "python",
   "nbconvert_exporter": "python",
   "pygments_lexer": "ipython3",
   "version": "3.6.4"
  }
 },
 "nbformat": 4,
 "nbformat_minor": 2
}
