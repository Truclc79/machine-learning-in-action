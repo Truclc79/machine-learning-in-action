{
 "cells": [
  {
   "cell_type": "markdown",
   "metadata": {},
   "source": [
    "# SVM\n",
    "\n",
    "SMO (Sequential Minimal Optimization)\n",
    "\n",
    "This chapter introduces the SMO algorithm (simple and full). I will probably look into the maths when I am interested to know what is happening behind the scene, but for now I am only interested in implementing it."
   ]
  },
  {
   "cell_type": "code",
   "execution_count": 8,
   "metadata": {
    "collapsed": true
   },
   "outputs": [],
   "source": [
    "import numpy as np\n",
    "import unittest\n",
    "import random"
   ]
  },
  {
   "cell_type": "code",
   "execution_count": 6,
   "metadata": {
    "collapsed": true
   },
   "outputs": [],
   "source": [
    "def load_dataset(file_name):\n",
    "    X = []\n",
    "    y = []\n",
    "    with open(file_name) as f:\n",
    "        for line in f.readlines():\n",
    "            cols = line.strip().split('\\t')\n",
    "            X.append([float(cols[0]), \n",
    "                      float(cols[1])])\n",
    "            y.append(float(cols[2]))\n",
    "        f.close()\n",
    "    return X, y"
   ]
  },
  {
   "cell_type": "code",
   "execution_count": 9,
   "metadata": {},
   "outputs": [],
   "source": [
    "def select_j_rand(i, m):\n",
    "    '''\n",
    "    Args:\n",
    "        i (int): index of the first alpha\n",
    "        m (int): total number of alphas\n",
    "    \n",
    "    Returns:\n",
    "        j (int): A random value that is not equal to i\n",
    "    '''\n",
    "    j = i\n",
    "    while j == i:\n",
    "        j = int(random.uniform(0, m))\n",
    "    return j"
   ]
  },
  {
   "cell_type": "code",
   "execution_count": 3,
   "metadata": {},
   "outputs": [],
   "source": [
    "def clip_alpha(a_j, H, L):\n",
    "    '''Clips value that is greater than H or L\n",
    "    \n",
    "    Args:\n",
    "        a_j (int): A value\n",
    "        H (int): Maximum allowed value for a_j\n",
    "        L (int): Maximum allowed value for a_j\n",
    "    \n",
    "    \n",
    "    Returns:\n",
    "        a_j (int): A value less than H and L\n",
    "    '''\n",
    "    if a_j > H:\n",
    "        a_j = H\n",
    "    if L > a_j:\n",
    "        a_j = L\n",
    "    return a_j"
   ]
  },
  {
   "cell_type": "markdown",
   "metadata": {},
   "source": [
    "# Pseudo-code\n",
    "```\n",
    "Create an alphas vector filled with 0s\n",
    "While the number of iterations is less than MaxIterations:\n",
    "    For every data vector in the dataset:\n",
    "        If the data vector can be optimized:\n",
    "            Select another data vector at random\n",
    "            Optimize the two vectors together\n",
    "            If the vectors can't be optimized -> Break\n",
    "    If no vectors are optimized -> increment the iteration count\n",
    "```"
   ]
  },
  {
   "cell_type": "code",
   "execution_count": 2,
   "metadata": {},
   "outputs": [
    {
     "ename": "SyntaxError",
     "evalue": "unexpected EOF while parsing (<ipython-input-2-38f4f953b03c>, line 1)",
     "output_type": "error",
     "traceback": [
      "\u001b[0;36m  File \u001b[0;32m\"<ipython-input-2-38f4f953b03c>\"\u001b[0;36m, line \u001b[0;32m1\u001b[0m\n\u001b[0;31m    def smo_simple(X, y, C, toler, epochs):\u001b[0m\n\u001b[0m                                           ^\u001b[0m\n\u001b[0;31mSyntaxError\u001b[0m\u001b[0;31m:\u001b[0m unexpected EOF while parsing\n"
     ]
    }
   ],
   "source": [
    "def smo_simple(X, y, C, toler, max_epoch):\n",
    "    X_mat = np.mat(X)\n",
    "    y_mat = np.mat(y).transpose()\n",
    "    b = 0\n",
    "    m, n = np.shape(X_mat)\n",
    "    alphas = np.mat(np.zeros((m, 1)))\n",
    "    \n",
    "    epoch = 0\n",
    "    while (epoch < max_epoch):\n",
    "        alpha_pairs_changed = 0\n",
    "        for i in range(m):\n",
    "            x_i = float(np.multiply(alphas, y_mat).T * (X_mat*X_mat[i,:].T)) + b\n",
    "            e_i = x_i - float(y_mat[i])"
   ]
  },
  {
   "cell_type": "code",
   "execution_count": null,
   "metadata": {},
   "outputs": [],
   "source": []
  }
 ],
 "metadata": {
  "kernelspec": {
   "display_name": "Python 3",
   "language": "python",
   "name": "python3"
  },
  "language_info": {
   "codemirror_mode": {
    "name": "ipython",
    "version": 3
   },
   "file_extension": ".py",
   "mimetype": "text/x-python",
   "name": "python",
   "nbconvert_exporter": "python",
   "pygments_lexer": "ipython3",
   "version": "3.6.4"
  }
 },
 "nbformat": 4,
 "nbformat_minor": 2
}
