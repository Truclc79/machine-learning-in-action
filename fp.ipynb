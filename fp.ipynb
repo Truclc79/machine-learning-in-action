{
 "cells": [
  {
   "cell_type": "code",
   "execution_count": 580,
   "metadata": {},
   "outputs": [],
   "source": [
    "data = [['A', 'B', 'D', 'E'],\n",
    "        ['B', 'C', 'E'],\n",
    "        ['A', 'B', 'D', 'E'],\n",
    "        ['A', 'B', 'C', 'E'],\n",
    "        ['A', 'B', 'C', 'D', 'E'],\n",
    "        ['B', 'C', 'D']]\n",
    "\n",
    "# data = [['E', 'A', 'D', 'B'],\n",
    "#         ['D', 'A', 'C', 'E', 'B'],\n",
    "#         ['C', 'A', 'B', 'E'],\n",
    "#         ['B', 'A', 'D'],\n",
    "#         ['D'],\n",
    "#         ['D', 'B'],\n",
    "#         ['A', 'D', 'E'],\n",
    "#         ['B', 'C']]\n",
    "\n",
    "data = [['r', 'z', 'h', 'j', 'p'],\n",
    "        ['z', 'y', 'x', 'w', 'v', 'u', 't', 's'],\n",
    "        ['z'],\n",
    "        ['r', 'x', 'n', 'o', 's'],\n",
    "        ['y', 'r', 'x', 'z', 'q', 't', 'p'],\n",
    "        ['y', 'z', 'x', 'e', 'q', 's', 't', 'm']]"
   ]
  },
  {
   "cell_type": "code",
   "execution_count": 581,
   "metadata": {},
   "outputs": [],
   "source": [
    "class Node:\n",
    "    count = 0\n",
    "    def __init__(self, item, parent):\n",
    "        self.item = item\n",
    "        self.count += 1\n",
    "        self.children = {}\n",
    "        self.parent = parent\n",
    "        self.node_link = None\n",
    "\n",
    "    def incr(self):\n",
    "        self.count += 1\n",
    "        \n",
    "    def print(self, depth=0):\n",
    "        print(' ' * depth, f'{self.item}:{self.count}')\n",
    "        for child in self.children.values():\n",
    "            child.print(depth + 1)"
   ]
  },
  {
   "cell_type": "code",
   "execution_count": 582,
   "metadata": {},
   "outputs": [],
   "source": [
    "class FrequentItemHeader:\n",
    "    \"\"\"\n",
    "    FrequentItemHeader stores the item name\n",
    "    and the node link pointing to the node with\n",
    "    the same name.\"\"\"\n",
    "    def __init__(self, frequent_items):\n",
    "        self.node_links = {}\n",
    "        self.frequent_items = frequent_items\n",
    "        \n",
    "    def link(self, node):\n",
    "        if node is None: return\n",
    "        if node.item in self.node_links:\n",
    "            curr = self.node_links[node.item]\n",
    "            while curr and curr.node_link:\n",
    "                curr = curr.node_link\n",
    "            curr.node_link = node\n",
    "        else:\n",
    "            self.node_links[node.item] = node"
   ]
  },
  {
   "cell_type": "code",
   "execution_count": 583,
   "metadata": {},
   "outputs": [],
   "source": [
    "def construct_fp_tree(data, min_support=3):\n",
    "    # Collect the frequent items.\n",
    "    frequent_items = {}\n",
    "    for row in data:\n",
    "        # Count the duplicate item once only.\n",
    "        for item in set(row):\n",
    "            count = frequent_items.get(item, 0)\n",
    "            frequent_items[item] = count + 1\n",
    "\n",
    "    # Sort by values, then key.\n",
    "    frequent_items_list = sorted(frequent_items.items(), \n",
    "#                                  key=lambda t: (-t[1], t[0]))\n",
    "                                 key=lambda t: t[1],\n",
    "                                 reverse=True)\n",
    "    frequent_items_list = [(item, count)\n",
    "                            for item, count in frequent_items_list\n",
    "                            if count >= min_support]\n",
    "    \n",
    "    frequent_item_header = FrequentItemHeader(frequent_items_list)\n",
    "    # Create the root of the FP-tree.\n",
    "    root = Node(None, None)\n",
    "    \n",
    "    def insert_tree(tree, items):\n",
    "        if len(items) == 0: return\n",
    "        item = items[0]\n",
    "        if item in tree.children:\n",
    "            # Increment the count if the children exist.\n",
    "            tree.children[item].incr()\n",
    "        else:\n",
    "            # Create a new node and link back to the parent.\n",
    "            tree.children[item] = Node(item, tree)\n",
    "            # Node-link the header.\n",
    "            frequent_item_header.link(tree.children[item])\n",
    "        \n",
    "        # If there are items, recursively add them.\n",
    "        if len(items) > 0:\n",
    "            insert_tree(tree.children[item], items[1:])\n",
    "\n",
    "\n",
    "    for row in data:\n",
    "        # Sort them in ascending order to the frequent items list.\n",
    "        items = [item \n",
    "                 for item, count in frequent_items_list\n",
    "                 if item in row]\n",
    "        insert_tree(root, items)\n",
    "    return root, frequent_item_header"
   ]
  },
  {
   "cell_type": "code",
   "execution_count": 584,
   "metadata": {},
   "outputs": [
    {
     "name": "stdout",
     "output_type": "stream",
     "text": [
      " None:1\n",
      "  z:5\n",
      "   r:1\n",
      "   x:3\n",
      "    t:2\n",
      "     y:2\n",
      "      s:2\n",
      "    r:1\n",
      "     t:1\n",
      "      y:1\n",
      "  x:1\n",
      "   r:1\n",
      "    s:1\n"
     ]
    }
   ],
   "source": [
    "tree, header = construct_fp_tree(data)\n",
    "tree.print()"
   ]
  },
  {
   "cell_type": "code",
   "execution_count": 585,
   "metadata": {},
   "outputs": [
    {
     "data": {
      "text/plain": [
       "([('z', 5), ('x', 4), ('r', 3), ('t', 3), ('y', 3), ('s', 3)],\n",
       " {'z': <__main__.Node at 0x112b33518>,\n",
       "  'r': <__main__.Node at 0x112b33d68>,\n",
       "  'x': <__main__.Node at 0x112b33ba8>,\n",
       "  't': <__main__.Node at 0x1132d90b8>,\n",
       "  'y': <__main__.Node at 0x1132d9d30>,\n",
       "  's': <__main__.Node at 0x1132d9588>})"
      ]
     },
     "execution_count": 585,
     "metadata": {},
     "output_type": "execute_result"
    }
   ],
   "source": [
    "header.frequent_items, header.node_links"
   ]
  },
  {
   "cell_type": "code",
   "execution_count": null,
   "metadata": {},
   "outputs": [],
   "source": [
    "# Start mining from the bottom of the tree.\n",
    "def mine_tree(header, tree, prefix_base = [], result = []):\n",
    "    prefixes = list(reversed([item for item, count in header.frequent_items]))\n",
    "    for prefix in prefixes:\n",
    "        if prefix not in header.node_links: continue\n",
    "        node_link = header.node_links[prefix]\n",
    "        if node_link is None:\n",
    "            continue\n",
    "\n",
    "        conditional_patterns = []\n",
    "        while node_link is not None:\n",
    "            patterns = set()\n",
    "            parent = node_link #.parent\n",
    "            while parent is not None:\n",
    "                patterns.add(parent.item)\n",
    "                parent = parent.parent\n",
    "            patterns.remove(None)\n",
    "            print(prefix, '->', patterns)\n",
    "            conditional_patterns.append(prefix_base + list(patterns))\n",
    "            node_link = node_link.node_link\n",
    "        print('conditional_patterns', conditional_patterns)\n",
    "#         for patterns in conditional_patterns:\n",
    "        result.extend(conditional_patterns)\n",
    "        innertree, innerheader = construct_fp_tree(conditional_patters)\n",
    "        innertree.print()\n",
    "        mine_tree(innerheader, innertree, prefix_base + [prefix], result)\n",
    "        print()"
   ]
  },
  {
   "cell_type": "code",
   "execution_count": null,
   "metadata": {},
   "outputs": [],
   "source": [
    "result = []\n",
    "mine_tree(header, tree, [], result)\n",
    "result"
   ]
  },
  {
   "cell_type": "code",
   "execution_count": 588,
   "metadata": {},
   "outputs": [
    {
     "data": {
      "text/plain": [
       "[{'y'},\n",
       " {'y', 'z'},\n",
       " {'x', 'y', 'z'},\n",
       " {'x', 'y'},\n",
       " {'s'},\n",
       " {'s', 'x'},\n",
       " {'t'},\n",
       " {'t', 'y'},\n",
       " {'t', 'x'},\n",
       " {'t', 'x', 'y'},\n",
       " {'t', 'z'},\n",
       " {'t', 'y', 'z'},\n",
       " {'t', 'x', 'z'},\n",
       " {'t', 'x', 'y', 'z'},\n",
       " {'r'},\n",
       " {'x'},\n",
       " {'x', 'z'},\n",
       " {'z'}]"
      ]
     },
     "execution_count": 588,
     "metadata": {},
     "output_type": "execute_result"
    }
   ],
   "source": [
    " [set(['y']), set(['y', 'z']), set(['y', 'x', 'z']), set(['y', 'x']),\n",
    "set(['s']), set(['x', 's']), set(['t']), set(['y', 't']), set(['x',\n",
    "'t']), set(['y', 'x', 't']), set(['z', 't']), set(['y', 'z', 't']),\n",
    "set(['x', 'z', 't']), set(['y', 'x', 'z', 't']), set(['r']), set(['x']),\n",
    "set(['x', 'z']), set(['z'])]"
   ]
  },
  {
   "cell_type": "code",
   "execution_count": null,
   "metadata": {},
   "outputs": [],
   "source": []
  },
  {
   "cell_type": "code",
   "execution_count": null,
   "metadata": {},
   "outputs": [],
   "source": []
  }
 ],
 "metadata": {
  "kernelspec": {
   "display_name": "Python 3",
   "language": "python",
   "name": "python3"
  },
  "language_info": {
   "codemirror_mode": {
    "name": "ipython",
    "version": 3
   },
   "file_extension": ".py",
   "mimetype": "text/x-python",
   "name": "python",
   "nbconvert_exporter": "python",
   "pygments_lexer": "ipython3",
   "version": "3.7.3"
  }
 },
 "nbformat": 4,
 "nbformat_minor": 2
}
