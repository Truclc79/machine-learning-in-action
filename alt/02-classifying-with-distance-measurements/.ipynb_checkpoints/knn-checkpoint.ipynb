{
 "cells": [
  {
   "cell_type": "code",
   "execution_count": 28,
   "metadata": {
    "collapsed": true
   },
   "outputs": [],
   "source": [
    "import numpy as np\n",
    "import operator\n",
    "import matplotlib.pyplot as plt"
   ]
  },
  {
   "cell_type": "code",
   "execution_count": 26,
   "metadata": {
    "collapsed": true
   },
   "outputs": [],
   "source": [
    "def load_data():\n",
    "    group = np.array([[1.0, 1.1], [1.0, 1.0], [0.0, 0.0], [0.0, 0.1]])\n",
    "    labels = ['A', 'A', 'B', 'B']\n",
    "    return group, labels"
   ]
  },
  {
   "cell_type": "code",
   "execution_count": 56,
   "metadata": {
    "collapsed": true
   },
   "outputs": [],
   "source": [
    "def classify(x, dataset, labels, k):\n",
    "    dataset_size = dataset.shape[0]\n",
    "    diff_mat = np.tile(x, (dataset_size, 1)) - dataset\n",
    "    square_diff = diff_mat ** 2\n",
    "    square_distances = square_diff.sum(axis = 1)\n",
    "    distances = square_distances ** 0.5\n",
    "    sorted_distance_indices = distances.argsort()\n",
    "    class_count = {}\n",
    "    for i in range(k):\n",
    "        vote_label = labels[sorted_distance_indices[i]]\n",
    "        class_count[vote_label] = class_count.get(vote_label, 0) + 1\n",
    "    sorted_class_count = sorted(class_count.items(), key = operator.itemgetter(1), reverse = True)\n",
    "    return sorted_class_count[0][0]"
   ]
  },
  {
   "cell_type": "code",
   "execution_count": 57,
   "metadata": {
    "collapsed": false
   },
   "outputs": [
    {
     "data": {
      "text/plain": [
       "'B'"
      ]
     },
     "execution_count": 57,
     "metadata": {},
     "output_type": "execute_result"
    }
   ],
   "source": [
    "group, labels = load_data()\n",
    "x = [0, 0]\n",
    "classify(x, group, labels, 3)"
   ]
  },
  {
   "cell_type": "code",
   "execution_count": 58,
   "metadata": {
    "collapsed": false
   },
   "outputs": [
    {
     "data": {
      "image/png": "[encoded data removed]",
      "text/plain": [
       "<matplotlib.figure.Figure at 0x111fe8358>"
      ]
     },
     "metadata": {},
     "output_type": "display_data"
    }
   ],
   "source": [
    "# Plot all points\n",
    "plt.scatter(group[:, 0], group[:, 1])\n",
    "for i, point in enumerate(group):\n",
    "    plt.annotate(labels[i], (point[0], point[1]))\n",
    "    \n",
    "# Plot the random point\n",
    "plt.scatter(x[0], x[1], marker='+')\n",
    "plt.annotate('B', (x[0], x[1]))\n",
    "plt.show()"
   ]
  }
 ],
 "metadata": {
  "kernelspec": {
   "display_name": "Python 3",
   "language": "python",
   "name": "python3"
  },
  "language_info": {
   "codemirror_mode": {
    "name": "ipython",
    "version": 3
   },
   "file_extension": ".py",
   "mimetype": "text/x-python",
   "name": "python",
   "nbconvert_exporter": "python",
   "pygments_lexer": "ipython3",
   "version": "3.6.4"
  }
 },
 "nbformat": 4,
 "nbformat_minor": 2
}
