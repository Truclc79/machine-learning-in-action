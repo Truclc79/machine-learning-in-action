{
 "cells": [
  {
   "cell_type": "markdown",
   "metadata": {},
   "source": [
    "# Pseudo-code\n",
    "\n",
    "```\n",
    "Start with the weights all set to 1\n",
    "Repeat R number of times\n",
    "    Calculate the gradient of the entire dataset\n",
    "    Update the weights vector by alpha * gradient\n",
    "    Return the weights vector\n",
    "```"
   ]
  },
  {
   "cell_type": "code",
   "execution_count": 92,
   "metadata": {
    "collapsed": true
   },
   "outputs": [],
   "source": [
    "import unittest\n",
    "import numpy as np\n",
    "import matplotlib.pyplot as plt\n",
    "import random"
   ]
  },
  {
   "cell_type": "code",
   "execution_count": 93,
   "metadata": {
    "collapsed": true
   },
   "outputs": [],
   "source": [
    "def load_data():\n",
    "    X = []\n",
    "    y = []\n",
    "    with open ('testSet.txt') as f:\n",
    "        for line in f.readlines():\n",
    "            cols = line.strip().split()\n",
    "            X.append([1.0, float(cols[0]), float(cols[1])])\n",
    "            y.append(int(cols[2]))\n",
    "    return X, y"
   ]
  },
  {
   "cell_type": "code",
   "execution_count": 94,
   "metadata": {
    "collapsed": true
   },
   "outputs": [],
   "source": [
    "def sigmoid(X):\n",
    "    return 1.0 / (1 + np.exp(np.negative(X)))"
   ]
  },
  {
   "cell_type": "code",
   "execution_count": 95,
   "metadata": {
    "collapsed": false
   },
   "outputs": [],
   "source": [
    "def plot_best_fit(weights):\n",
    "    weights = weights.getA() # Return self as ndarray object\n",
    "    X, y = load_data()\n",
    "    X_arr = np.mat(X).getA()\n",
    "    n, _ = np.shape(X_arr)\n",
    "    \n",
    "    x1 = []\n",
    "    y1 = []\n",
    "    \n",
    "    x2 = []\n",
    "    y2 = []\n",
    "    \n",
    "    for i in range(n):\n",
    "        if int(y[i]) == 1:\n",
    "            x1.append(X_arr[i, 1])\n",
    "            y1.append(X_arr[i, 2])\n",
    "        else:\n",
    "            x2.append(X_arr[i, 1])\n",
    "            y2.append(X_arr[i, 2])\n",
    "\n",
    "    fig = plt.figure()\n",
    "    ax = fig.add_subplot(111)\n",
    "    ax.scatter(x1, y1, s = 30, c = 'red', marker = 's')\n",
    "    ax.scatter(x2, y2, s = 30, c = 'green')\n",
    "    \n",
    "    X = np.arange(-3.0, 3.0, 0.1)\n",
    "    y = (-weights[0] - weights[1] * X) / weights[2]\n",
    "    ax.plot(X, y)\n",
    "    plt.xlabel('X1')\n",
    "    plt.ylabel('X2')\n",
    "    plt.show()"
   ]
  },
  {
   "cell_type": "code",
   "execution_count": 96,
   "metadata": {
    "collapsed": true
   },
   "outputs": [],
   "source": [
    "def gradient_ascent(X, y):\n",
    "    X_mat = np.mat(X)\n",
    "    m, n = np.shape(X_mat)\n",
    "    y_transposed = np.mat(y).transpose()\n",
    "    alpha = 0.001\n",
    "    epochs = 500\n",
    "    weights = np.ones((n, 1))\n",
    "    \n",
    "    for k in range(epochs):\n",
    "        h = sigmoid(X_mat * weights)\n",
    "        error = y_transposed - h\n",
    "        weights = weights + alpha * X_mat.transpose() * error\n",
    "\n",
    "    return weights"
   ]
  },
  {
   "cell_type": "code",
   "execution_count": 97,
   "metadata": {
    "collapsed": true
   },
   "outputs": [],
   "source": [
    "def stochastic_gradient_ascent(X, y):\n",
    "    X_arr = np.array(X)\n",
    "    m, n = np.shape(X_arr)\n",
    "    alpha = 0.01\n",
    "    weights = np.ones(n)\n",
    "    \n",
    "    for i in range(m):\n",
    "        h = sigmoid(sum(X_arr[i] * weights))\n",
    "        error = y[i] - h\n",
    "        weights = weights + alpha * error * X_arr[i]\n",
    "    return weights"
   ]
  },
  {
   "cell_type": "code",
   "execution_count": 101,
   "metadata": {
    "collapsed": false
   },
   "outputs": [],
   "source": [
    "def stochastic_gradient_ascent_modified(X, y, epochs = 150):\n",
    "    m, n = np.shape(X)\n",
    "    X_arr = np.array(X)\n",
    "    weights = np.ones(n) * 1.0\n",
    "    index = range(m)\n",
    "    \n",
    "    for j in range(epochs):\n",
    "        for i in range(m):\n",
    "            alpha = 4 / (1.0 + j + i) + 0.01\n",
    "            rand_index = int(random.uniform(0, len(index)))\n",
    "            h = sigmoid(np.sum(X[rand_index] * weights))\n",
    "            error = y[rand_index] - h\n",
    "            weights = weights + alpha * error * X_arr[rand_index]\n",
    "            np.delete(X_arr, rand_index)\n",
    "    return weights"
   ]
  },
  {
   "cell_type": "code",
   "execution_count": 102,
   "metadata": {
    "collapsed": true
   },
   "outputs": [],
   "source": [
    "def classify_vector(X, weights):\n",
    "    prob = sigmoid(np.sum(X * weights))\n",
    "    return 1.0 if prob > 0.5 else 0.0"
   ]
  },
  {
   "cell_type": "code",
   "execution_count": 107,
   "metadata": {
    "collapsed": false
   },
   "outputs": [
    {
     "name": "stderr",
     "output_type": "stream",
     "text": [
      "/usr/local/lib/python3.6/site-packages/ipykernel/__main__.py:2: RuntimeWarning: overflow encountered in exp\n",
      "  from ipykernel import kernelapp as app\n",
      "..."
     ]
    },
    {
     "name": "stdout",
     "output_type": "stream",
     "text": [
      "error rate: 0.29850746268656714\n"
     ]
    },
    {
     "data": {
      "image/png": "[encoded data removed]",
      "text/plain": [
       "<matplotlib.figure.Figure at 0x10ba92518>"
      ]
     },
     "metadata": {},
     "output_type": "display_data"
    },
    {
     "name": "stderr",
     "output_type": "stream",
     "text": [
      ".."
     ]
    },
    {
     "data": {
      "image/png": "[encoded data removed]",
      "text/plain": [
       "<matplotlib.figure.Figure at 0x10b44fa58>"
      ]
     },
     "metadata": {},
     "output_type": "display_data"
    },
    {
     "name": "stderr",
     "output_type": "stream",
     "text": [
      "."
     ]
    },
    {
     "data": {
      "image/png": "[encoded data removed]",
      "text/plain": [
       "<matplotlib.figure.Figure at 0x10bbe65c0>"
      ]
     },
     "metadata": {},
     "output_type": "display_data"
    },
    {
     "name": "stderr",
     "output_type": "stream",
     "text": [
      ".\n",
      "----------------------------------------------------------------------\n",
      "Ran 7 tests in 4.904s\n",
      "\n",
      "OK\n"
     ]
    }
   ],
   "source": [
    "class TestGradientAscent(unittest.TestCase):\n",
    "    def test_load_data(self):\n",
    "        X, y = load_data()\n",
    "        self.assertEqual(len(X), len(y))\n",
    "        \n",
    "    def test_sigmoid(self):\n",
    "        expected = [0.5, 1]\n",
    "        got = sigmoid([0, 100]).tolist()\n",
    "        self.assertEqual(expected, got)\n",
    "    \n",
    "    def test_gradient_ascent(self):\n",
    "        X, y = load_data()\n",
    "        expected = 3\n",
    "        got = len(gradient_ascent(X, y))\n",
    "        self.assertEqual(expected, got)\n",
    "    \n",
    "    def test_plot_best_fit(self):\n",
    "        X, y = load_data()\n",
    "        weights = gradient_ascent(X, y)\n",
    "        plot_best_fit(weights)\n",
    "    \n",
    "    def test_stochastic_gradient_ascent(self):\n",
    "        X, y = load_data()\n",
    "        weights = stochastic_gradient_ascent(X, y)\n",
    "        plot_best_fit(np.mat(weights.reshape(-1, 1)))\n",
    "        \n",
    "    def test_stochastic_gradient_ascent_modified(self):\n",
    "        X, y = load_data()\n",
    "        weights = stochastic_gradient_ascent_modified(X, y)\n",
    "        plot_best_fit(np.mat(weights.reshape(-1, 1)))\n",
    "    \n",
    "    def test_colic(self):\n",
    "        train_data = open('horseColicTraining.txt')\n",
    "        test_data = open('horseColicTest.txt')\n",
    "        \n",
    "        X_train = []\n",
    "        y_train = []\n",
    "        \n",
    "        for line in train_data.readlines():\n",
    "            cols = line.strip().split('\\t')\n",
    "            lines = np.array(cols[0:21]).astype(float)\n",
    "            X_train.append(lines)\n",
    "            y_train.append(float(cols[21]))\n",
    "\n",
    "        train_weights = stochastic_gradient_ascent_modified(X_train, y_train, 500)        \n",
    "        error_count = 0\n",
    "        num_test_vec = 0.0\n",
    "        \n",
    "        for line in test_data.readlines():\n",
    "            num_test_vec += 1.0\n",
    "            cols = line.strip().split('\\t')\n",
    "#             lines = []\n",
    "#             for i in range(21):\n",
    "#                 lines.append(float(cols[i]))\n",
    "            lines = np.array(cols[0:21]).astype(float)\n",
    "            if int(classify_vector(lines, train_weights)) != int(cols[21]):\n",
    "                error_count += 1\n",
    "\n",
    "        error_rate = float(error_count) / num_test_vec\n",
    "\n",
    "        train_data.close()\n",
    "        test_data.close()\n",
    "\n",
    "        print('error rate: {}'.format(error_rate))\n",
    "        \n",
    "if __name__ == '__main__':\n",
    "    unittest.main(argv = ['first-arg-is-ignored'], exit = False)"
   ]
  },
  {
   "cell_type": "code",
   "execution_count": null,
   "metadata": {
    "collapsed": true
   },
   "outputs": [],
   "source": []
  }
 ],
 "metadata": {
  "kernelspec": {
   "display_name": "Python 3",
   "language": "python",
   "name": "python3"
  },
  "language_info": {
   "codemirror_mode": {
    "name": "ipython",
    "version": 3
   },
   "file_extension": ".py",
   "mimetype": "text/x-python",
   "name": "python",
   "nbconvert_exporter": "python",
   "pygments_lexer": "ipython3",
   "version": "3.6.4"
  }
 },
 "nbformat": 4,
 "nbformat_minor": 2
}
