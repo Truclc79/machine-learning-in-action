{
 "cells": [
  {
   "cell_type": "code",
   "execution_count": 257,
   "metadata": {},
   "outputs": [],
   "source": [
    "import math\n",
    "import numpy as np\n",
    "\n",
    "from pprint import pprint\n",
    "from collections import defaultdict, Counter"
   ]
  },
  {
   "cell_type": "code",
   "execution_count": 258,
   "metadata": {},
   "outputs": [],
   "source": [
    "def entropy(data):\n",
    "    n, _ = data.shape\n",
    "    \n",
    "    c = Counter(data[:, -1])\n",
    "    ent = lambda x: -(x/n * math.log(x/n, 2))\n",
    "    \n",
    "    return sum([ent(x) for x in c.values()])"
   ]
  },
  {
   "cell_type": "code",
   "execution_count": 259,
   "metadata": {},
   "outputs": [],
   "source": [
    "data = [[1, 1, 'yes'],\n",
    "        [1, 1, 'yes'],\n",
    "        [1, 0, 'no'],\n",
    "        [0, 1, 'no'],\n",
    "        [0, 1, 'no']]\n",
    "data = np.array(data)"
   ]
  },
  {
   "cell_type": "code",
   "execution_count": 260,
   "metadata": {},
   "outputs": [],
   "source": [
    "labels = ['no surfacing', 'no flippers']"
   ]
  },
  {
   "cell_type": "code",
   "execution_count": 261,
   "metadata": {},
   "outputs": [
    {
     "data": {
      "text/plain": [
       "0.9709505944546686"
      ]
     },
     "execution_count": 261,
     "metadata": {},
     "output_type": "execute_result"
    }
   ],
   "source": [
    "data_copy = data.copy()\n",
    "data_copy[0][-1] = 'maybe'\n",
    "entropy(data)"
   ]
  },
  {
   "cell_type": "code",
   "execution_count": 262,
   "metadata": {},
   "outputs": [],
   "source": [
    "def split_column(data, col, value):\n",
    "    \"\"\"\n",
    "    Splits the data at the given column with the given value.\n",
    "    \n",
    "    Paramters\n",
    "    ---------\n",
    "    data: [n_samples, n_features:labels]\n",
    "        A data with a number of feature colums and the last column is the label.\n",
    "    col: int\n",
    "        The integer column to split the data.\n",
    "    value: int\n",
    "        The value to match when splitting the column.\n",
    "        \n",
    "    Returns\n",
    "    -------\n",
    "    result: [n_samples, n_features-1:labels]\n",
    "        The original dataset with the column removed at where it was split.\n",
    "    \"\"\"\n",
    "    _, cols = data.shape\n",
    "    columns = [i for i in range(cols) if i != col]\n",
    "    return data[data[:, col] == value][:, columns]"
   ]
  },
  {
   "cell_type": "code",
   "execution_count": 263,
   "metadata": {},
   "outputs": [
    {
     "data": {
      "text/plain": [
       "array([['1', 'yes'],\n",
       "       ['1', 'yes'],\n",
       "       ['0', 'no']], dtype='<U21')"
      ]
     },
     "execution_count": 263,
     "metadata": {},
     "output_type": "execute_result"
    }
   ],
   "source": [
    "split_column(data, 0, '1')"
   ]
  },
  {
   "cell_type": "code",
   "execution_count": 264,
   "metadata": {},
   "outputs": [
    {
     "data": {
      "text/plain": [
       "array([['1', 'no'],\n",
       "       ['1', 'no']], dtype='<U21')"
      ]
     },
     "execution_count": 264,
     "metadata": {},
     "output_type": "execute_result"
    }
   ],
   "source": [
    "split_column(data, 0, '0')"
   ]
  },
  {
   "cell_type": "code",
   "execution_count": 265,
   "metadata": {},
   "outputs": [],
   "source": [
    "def select_best_feature(data):\n",
    "    n, cols = data.shape\n",
    "    \n",
    "    parent_entropy = entropy(data)\n",
    "    best_gain, best_feat = -float('inf'), -1\n",
    "    \n",
    "    for i in range(cols - 1): # Exclude the last label column.\n",
    "        feat_value = np.unique(data[:, i])\n",
    "        child_entropy = 0\n",
    "        \n",
    "        for val in feat_value:\n",
    "            subset = split_column(data, i, val)\n",
    "            weight = len(subset) / n\n",
    "            child_entropy += entropy(subset) * weight\n",
    "        \n",
    "        info_gain = parent_entropy - child_entropy\n",
    "        if info_gain > best_gain:\n",
    "            best_gain = info_gain\n",
    "            best_feat = i\n",
    "\n",
    "    return best_feat"
   ]
  },
  {
   "cell_type": "code",
   "execution_count": 266,
   "metadata": {},
   "outputs": [
    {
     "data": {
      "text/plain": [
       "0"
      ]
     },
     "execution_count": 266,
     "metadata": {},
     "output_type": "execute_result"
    }
   ],
   "source": [
    "select_best_feature(data)"
   ]
  },
  {
   "cell_type": "code",
   "execution_count": 267,
   "metadata": {},
   "outputs": [],
   "source": [
    "def majority(classes):\n",
    "    return Counter(classes).most_common(1)[0][0]"
   ]
  },
  {
   "cell_type": "code",
   "execution_count": 284,
   "metadata": {},
   "outputs": [],
   "source": [
    "def create_tree(data, labels):\n",
    "    classes = data[:, -1]\n",
    "    \n",
    "    if len(set(classes)) == len(classes): # All classes are equal.\n",
    "        return classes[0]\n",
    "    \n",
    "    n, features = data.shape\n",
    "    if features == 1: # Single column left.\n",
    "        return majority(classes)\n",
    "\n",
    "    best_feat = select_best_feature(data)\n",
    "    best_class = labels[best_feat]\n",
    "    \n",
    "    tree = {best_class: {}}\n",
    "    del(labels[best_feat])\n",
    "    \n",
    "    values = np.unique(data[:, best_feat])\n",
    "    for val in values:\n",
    "        subclass = labels[:]\n",
    "        tree[best_class][val] = create_tree(split_column(data, best_feat, val), \n",
    "                                            subclass)\n",
    "    return tree"
   ]
  },
  {
   "cell_type": "code",
   "execution_count": 285,
   "metadata": {},
   "outputs": [
    {
     "name": "stdout",
     "output_type": "stream",
     "text": [
      "{'no surfacing': {'0': {'no flippers': {'1': 'no'}},\n",
      "                  '1': {'no flippers': {'0': 'no', '1': 'yes'}}}}\n"
     ]
    }
   ],
   "source": [
    "pprint(create_tree(data, labels[:]))"
   ]
  },
  {
   "cell_type": "code",
   "execution_count": 286,
   "metadata": {},
   "outputs": [
    {
     "data": {
      "text/plain": [
       "(array([1, 2, 3]), array([2, 2, 6]))"
      ]
     },
     "execution_count": 286,
     "metadata": {},
     "output_type": "execute_result"
    }
   ],
   "source": [
    "np.unique([1,1,2,3,2,3,3,3,3,3], return_counts=True)"
   ]
  },
  {
   "cell_type": "code",
   "execution_count": null,
   "metadata": {},
   "outputs": [],
   "source": []
  },
  {
   "cell_type": "code",
   "execution_count": null,
   "metadata": {},
   "outputs": [],
   "source": []
  }
 ],
 "metadata": {
  "kernelspec": {
   "display_name": "Python 3",
   "language": "python",
   "name": "python3"
  },
  "language_info": {
   "codemirror_mode": {
    "name": "ipython",
    "version": 3
   },
   "file_extension": ".py",
   "mimetype": "text/x-python",
   "name": "python",
   "nbconvert_exporter": "python",
   "pygments_lexer": "ipython3",
   "version": "3.7.3"
  }
 },
 "nbformat": 4,
 "nbformat_minor": 2
}
