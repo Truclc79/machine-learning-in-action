{
 "cells": [
  {
   "cell_type": "markdown",
   "metadata": {},
   "source": [
    "## Gradient Ascent\n",
    "\n",
    "1. Start with the weight all set to 1\n",
    "2. Repeat R number of times:\n",
    "    1. Calculate the gradient of the entire dataset\n",
    "    2. Update the weight vectors by alpha * gradient\n",
    "    3. Return the weight vectors"
   ]
  },
  {
   "cell_type": "code",
   "execution_count": 86,
   "metadata": {},
   "outputs": [],
   "source": [
    "%matplotlib inline\n",
    "\n",
    "import random\n",
    "\n",
    "import numpy as np\n",
    "import matplotlib.pyplot as plt\n",
    "from sklearn.linear_model import SGDRegressor"
   ]
  },
  {
   "cell_type": "code",
   "execution_count": 2,
   "metadata": {},
   "outputs": [],
   "source": [
    "def sigmoid_i(z):\n",
    "    import math\n",
    "    return 1.0 / (1 + math.exp(-z))"
   ]
  },
  {
   "cell_type": "code",
   "execution_count": 3,
   "metadata": {},
   "outputs": [
    {
     "data": {
      "text/plain": [
       "(0.5, 0.6224593312018546, 0.7310585786300049)"
      ]
     },
     "execution_count": 3,
     "metadata": {},
     "output_type": "execute_result"
    },
    {
     "data": {
      "image/png": "[encoded data removed]",
      "text/plain": [
       "<Figure size 432x288 with 1 Axes>"
      ]
     },
     "metadata": {
      "needs_background": "light"
     },
     "output_type": "display_data"
    }
   ],
   "source": [
    "X = range(-6, 6, 1)\n",
    "y = [sigmoid_i(x) for x in X]\n",
    "plt.plot(X, y)\n",
    "\n",
    "sigmoid_i(0), sigmoid_i(0.5), sigmoid_i(1)"
   ]
  },
  {
   "cell_type": "code",
   "execution_count": 4,
   "metadata": {},
   "outputs": [],
   "source": [
    "X, y = [], []\n",
    "with open('data/testSet.txt', 'r') as f:\n",
    "    for line in f.readlines():\n",
    "        row = line.strip().split()\n",
    "        X.append([1, \n",
    "                  float(row[0]), \n",
    "                  float(row[1])])\n",
    "        y.append(int(row[2]))\n",
    "X, y = np.array(X), np.array(y)"
   ]
  },
  {
   "cell_type": "code",
   "execution_count": 5,
   "metadata": {},
   "outputs": [
    {
     "data": {
      "text/plain": [
       "((100, 3), array([ 1.      , -0.017612, 14.053064]))"
      ]
     },
     "execution_count": 5,
     "metadata": {},
     "output_type": "execute_result"
    }
   ],
   "source": [
    "X.shape, X[0]"
   ]
  },
  {
   "cell_type": "code",
   "execution_count": 6,
   "metadata": {},
   "outputs": [],
   "source": [
    "def sigmoid(z):\n",
    "    return 1.0 / (1 + np.exp(-z))"
   ]
  },
  {
   "cell_type": "code",
   "execution_count": 28,
   "metadata": {},
   "outputs": [],
   "source": [
    "def gradient_ascent(X, y, alpha=0.001, epoch=500):\n",
    "    m, n = X.shape\n",
    "    theta = np.ones(n) \n",
    "    \n",
    "    for i in range(epoch):\n",
    "        z = X @ theta\n",
    "        h = sigmoid(z)\n",
    "        gradient = X.T @ (h - y)\n",
    "        theta -= alpha * gradient\n",
    "    return theta"
   ]
  },
  {
   "cell_type": "code",
   "execution_count": 29,
   "metadata": {},
   "outputs": [
    {
     "data": {
      "text/plain": [
       "array([ 4.12414349,  0.48007329, -0.6168482 ])"
      ]
     },
     "execution_count": 29,
     "metadata": {},
     "output_type": "execute_result"
    }
   ],
   "source": [
    "theta = gradient_ascent(X, y)\n",
    "theta"
   ]
  },
  {
   "cell_type": "code",
   "execution_count": 35,
   "metadata": {},
   "outputs": [],
   "source": [
    "# Plot best fit.\n",
    "def plot_best_fit(X, y, theta):\n",
    "    for y_i in np.unique(y):\n",
    "        X_y = X[y == y_i]\n",
    "        plt.scatter(X_y[:, 1], \n",
    "                    X_y[:, 2],\n",
    "                    label=y_i)\n",
    "    plt.legend()\n",
    "\n",
    "    # Plot the line.\n",
    "    x = range(-3, 3, 1)\n",
    "    plt.plot(x, [(-theta[0] - theta[1] * i) / theta[2]  for i in x])"
   ]
  },
  {
   "cell_type": "code",
   "execution_count": 36,
   "metadata": {},
   "outputs": [
    {
     "data": {
      "image/png": "[encoded data removed]",
      "text/plain": [
       "<Figure size 432x288 with 1 Axes>"
      ]
     },
     "metadata": {
      "needs_background": "light"
     },
     "output_type": "display_data"
    }
   ],
   "source": [
    "plot_best_fit(X, y, theta)"
   ]
  },
  {
   "cell_type": "markdown",
   "metadata": {},
   "source": [
    "## Stochastic Gradient Ascent\n",
    "\n",
    "1. Start with weights all set to 1.\n",
    "2. For each piece of data in the dataset:\n",
    "    1. Calculate the gradient of one piece of data.\n",
    "    2. Update the weights vector by alpha * gradient.\n",
    "    3. Return the weights vector."
   ]
  },
  {
   "cell_type": "code",
   "execution_count": 31,
   "metadata": {},
   "outputs": [],
   "source": [
    "def stochastic_gradient_ascent(X, y, alpha=0.01):\n",
    "    m, n = X.shape\n",
    "    theta = np.ones(n)\n",
    "    \n",
    "    for i in range(m):\n",
    "        h = sigmoid(sum(X[i] * theta))\n",
    "        theta += alpha * (y[i] - h) * X[i]\n",
    "    return theta"
   ]
  },
  {
   "cell_type": "code",
   "execution_count": 37,
   "metadata": {},
   "outputs": [
    {
     "data": {
      "text/plain": [
       "array([ 1.01702007,  0.85914348, -0.36579921])"
      ]
     },
     "execution_count": 37,
     "metadata": {},
     "output_type": "execute_result"
    }
   ],
   "source": [
    "theta = stochastic_gradient_ascent(X, y)\n",
    "theta"
   ]
  },
  {
   "cell_type": "code",
   "execution_count": 38,
   "metadata": {},
   "outputs": [
    {
     "data": {
      "image/png": "[encoded data removed]",
      "text/plain": [
       "<Figure size 432x288 with 1 Axes>"
      ]
     },
     "metadata": {
      "needs_background": "light"
     },
     "output_type": "display_data"
    }
   ],
   "source": [
    "plot_best_fit(X, y, theta)"
   ]
  },
  {
   "cell_type": "code",
   "execution_count": 47,
   "metadata": {},
   "outputs": [],
   "source": [
    "def stochastic_gradient_descent_improved(X, y, epochs=150):\n",
    "    m, n = X.shape\n",
    "    theta = np.ones(n)\n",
    "    \n",
    "    for j in range(epochs):\n",
    "        indices = list(range(m))\n",
    "        \n",
    "        for i in range(m):\n",
    "            # Alpha changes with each iteration.\n",
    "            alpha = 4 / (1 + i + j) + 0.01\n",
    "            \n",
    "            rand_idx = int(random.uniform(0, len(indices)))\n",
    "            h = sigmoid(sum(X[rand_idx] * theta))\n",
    "            theta += alpha * (y[rand_idx] - h) * X[rand_idx]\n",
    "            del(indices[rand_idx])\n",
    "    return theta"
   ]
  },
  {
   "cell_type": "code",
   "execution_count": 48,
   "metadata": {},
   "outputs": [
    {
     "data": {
      "text/plain": [
       "array([14.51300725,  1.05145558, -2.04204058])"
      ]
     },
     "execution_count": 48,
     "metadata": {},
     "output_type": "execute_result"
    }
   ],
   "source": [
    "theta = stochastic_gradient_descent_improved(X, y)\n",
    "theta"
   ]
  },
  {
   "cell_type": "code",
   "execution_count": 49,
   "metadata": {},
   "outputs": [
    {
     "data": {
      "image/png": "[encoded data removed]",
      "text/plain": [
       "<Figure size 432x288 with 1 Axes>"
      ]
     },
     "metadata": {
      "needs_background": "light"
     },
     "output_type": "display_data"
    }
   ],
   "source": [
    "plot_best_fit(X, y, theta)"
   ]
  },
  {
   "cell_type": "code",
   "execution_count": 90,
   "metadata": {},
   "outputs": [
    {
     "data": {
      "text/plain": [
       "(array([ 0.54697406,  0.07579644, -0.0975598 ]), array([0.54716663]), 26)"
      ]
     },
     "execution_count": 90,
     "metadata": {},
     "output_type": "execute_result"
    }
   ],
   "source": [
    "clf = SGDRegressor(max_iter=1000, \n",
    "                   shuffle=True, \n",
    "                   random_state=42, \n",
    "                   tol=1e-3,\n",
    "                   alpha=0.01)\n",
    "clf.fit(X, y)\n",
    "clf.coef_, clf.intercept_, clf.n_iter_"
   ]
  },
  {
   "cell_type": "code",
   "execution_count": 91,
   "metadata": {},
   "outputs": [
    {
     "data": {
      "image/png": "[encoded data removed]",
      "text/plain": [
       "<Figure size 432x288 with 1 Axes>"
      ]
     },
     "metadata": {
      "needs_background": "light"
     },
     "output_type": "display_data"
    }
   ],
   "source": [
    "plot_best_fit(X, y, clf.coef_)"
   ]
  },
  {
   "cell_type": "code",
   "execution_count": null,
   "metadata": {},
   "outputs": [],
   "source": []
  }
 ],
 "metadata": {
  "kernelspec": {
   "display_name": "Python 3",
   "language": "python",
   "name": "python3"
  },
  "language_info": {
   "codemirror_mode": {
    "name": "ipython",
    "version": 3
   },
   "file_extension": ".py",
   "mimetype": "text/x-python",
   "name": "python",
   "nbconvert_exporter": "python",
   "pygments_lexer": "ipython3",
   "version": "3.7.3"
  }
 },
 "nbformat": 4,
 "nbformat_minor": 2
}
