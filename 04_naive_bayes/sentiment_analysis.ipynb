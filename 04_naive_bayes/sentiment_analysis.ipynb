{
 "cells": [
  {
   "cell_type": "code",
   "execution_count": 140,
   "metadata": {},
   "outputs": [],
   "source": [
    "%matplotlib inline\n",
    "\n",
    "import matplotlib.pyplot as plt\n",
    "import unittest\n",
    "import numpy as np\n",
    "import math"
   ]
  },
  {
   "cell_type": "code",
   "execution_count": 111,
   "metadata": {},
   "outputs": [],
   "source": [
    "data = [['my dog has flea problems help please', 'not abusive'],\n",
    "        ['maybe not take him to dog park stupid', 'abusive'],\n",
    "        ['my dalmation is so cute I love him', 'not abusive'],\n",
    "        ['stop posting stupid worthless garbage', 'abusive'],\n",
    "        ['mr licks ate my steak how to stop him', 'not abusive'],\n",
    "        ['quit buying worthless dog food stupid', 'abusive']]\n",
    "X = [sentence.split(' ') \n",
    "     for sentence, label in data]\n",
    "y = [1 if label == 'abusive' else 0 \n",
    "     for sentence, label in data]"
   ]
  },
  {
   "cell_type": "code",
   "execution_count": 112,
   "metadata": {},
   "outputs": [],
   "source": [
    "def bag_of_words(documents):\n",
    "    bow = set()\n",
    "    for doc in documents:\n",
    "        bow |= set(doc)\n",
    "    return bow"
   ]
  },
  {
   "cell_type": "code",
   "execution_count": 113,
   "metadata": {},
   "outputs": [],
   "source": [
    "def word2vec(bow, document):\n",
    "    return [1 if word in document else 0\n",
    "            for word in bow]"
   ]
  },
  {
   "cell_type": "code",
   "execution_count": 114,
   "metadata": {},
   "outputs": [
    {
     "name": "stderr",
     "output_type": "stream",
     "text": [
      "..\n",
      "----------------------------------------------------------------------\n",
      "Ran 2 tests in 0.003s\n",
      "\n",
      "OK\n"
     ]
    }
   ],
   "source": [
    "class TestNaiveBayes(unittest.TestCase):\n",
    "    def setUp(self):\n",
    "        self.documents = [['hello', 'world'], ['hi', 'world']]\n",
    "        self.bag_of_words = bag_of_words(self.documents)\n",
    "        \n",
    "    def test_bag_of_words(self):\n",
    "        expected = {'hello', 'world', 'hi'}\n",
    "        self.assertEqual(expected, self.bag_of_words)\n",
    "    \n",
    "    def test_word2vec(self):\n",
    "        expected = [0, 1, 1]\n",
    "        got = word2vec(self.bag_of_words, self.documents[0])\n",
    "        self.assertEqual(expected, got)\n",
    "        \n",
    "if __name__ == '__main__':\n",
    "    unittest.main(argv=[''], exit=False)"
   ]
  },
  {
   "cell_type": "code",
   "execution_count": 127,
   "metadata": {},
   "outputs": [],
   "source": [
    "def train(X, y):\n",
    "    n_samples, n_words = X.shape\n",
    "    p_abusive = sum(y) / n_samples\n",
    "    \n",
    "    p0_num, p1_num = np.ones(n_words), np.ones(n_words)\n",
    "    p0_den, p1_den = 1, 1\n",
    "    \n",
    "    for i in range(n_samples):\n",
    "        if y[i] == 1:\n",
    "            # Matrix addition.\n",
    "            p1_num += X[i]\n",
    "            p1_den += sum(X[i])\n",
    "        else:\n",
    "            p0_num += X[i]\n",
    "            p0_den += sum(X[i])\n",
    "\n",
    "    p1 = np.log(p1_num / p1_den)\n",
    "    p0 = np.log(p0_num / p0_den)\n",
    "    \n",
    "    return p0, p1, p_abusive"
   ]
  },
  {
   "cell_type": "code",
   "execution_count": 128,
   "metadata": {},
   "outputs": [
    {
     "data": {
      "text/plain": [
       "(6, 32)"
      ]
     },
     "execution_count": 128,
     "metadata": {},
     "output_type": "execute_result"
    }
   ],
   "source": [
    "bow = bag_of_words(X)\n",
    "\n",
    "X_vec = []\n",
    "for X_i in X:\n",
    "    X_vec.append(word2vec(bow, X_i))\n",
    "\n",
    "X_vec = np.array(X_vec)\n",
    "X_vec.shape"
   ]
  },
  {
   "cell_type": "code",
   "execution_count": 139,
   "metadata": {},
   "outputs": [],
   "source": [
    "p0, p1, p_abusive = train(X_vec, y)"
   ]
  },
  {
   "cell_type": "code",
   "execution_count": 141,
   "metadata": {},
   "outputs": [],
   "source": [
    "def classify(X, p0, p1, p_abusive):\n",
    "    p1 = sum(p1 * X) + math.log(p_abusive)\n",
    "    p0 = sum(p0 * X) + math.log(1 - p_abusive)\n",
    "    return 1 if p1 > p0 else 0"
   ]
  },
  {
   "cell_type": "code",
   "execution_count": 142,
   "metadata": {},
   "outputs": [
    {
     "data": {
      "text/plain": [
       "0"
      ]
     },
     "execution_count": 142,
     "metadata": {},
     "output_type": "execute_result"
    }
   ],
   "source": [
    "X_test = ['love', 'my', 'dalmation']\n",
    "X_test = word2vec(bow, X_test)\n",
    "classify(X_test, p0, p1, p_abusive)"
   ]
  },
  {
   "cell_type": "code",
   "execution_count": 143,
   "metadata": {},
   "outputs": [
    {
     "data": {
      "text/plain": [
       "1"
      ]
     },
     "execution_count": 143,
     "metadata": {},
     "output_type": "execute_result"
    }
   ],
   "source": [
    "X_test = ['stupid', 'garbage']\n",
    "X_test = word2vec(bow, X_test)\n",
    "classify(X_test, p0, p1, p_abusive)"
   ]
  },
  {
   "cell_type": "code",
   "execution_count": 154,
   "metadata": {},
   "outputs": [
    {
     "data": {
      "text/plain": [
       "['This',\n",
       " 'book',\n",
       " 'is',\n",
       " 'the',\n",
       " 'best',\n",
       " 'book',\n",
       " 'on',\n",
       " 'Python',\n",
       " 'or',\n",
       " 'M',\n",
       " 'L',\n",
       " 'that',\n",
       " 'I',\n",
       " 'have',\n",
       " '']"
      ]
     },
     "execution_count": 154,
     "metadata": {},
     "output_type": "execute_result"
    }
   ],
   "source": [
    "import re\n",
    "regexp = re.compile('\\W+') # Not valid: \"\\\\W*\"\n",
    "regexp.split('This book is the best book on Python or M.L that I have.')"
   ]
  },
  {
   "cell_type": "code",
   "execution_count": null,
   "metadata": {},
   "outputs": [],
   "source": []
  }
 ],
 "metadata": {
  "kernelspec": {
   "display_name": "Python 3",
   "language": "python",
   "name": "python3"
  },
  "language_info": {
   "codemirror_mode": {
    "name": "ipython",
    "version": 3
   },
   "file_extension": ".py",
   "mimetype": "text/x-python",
   "name": "python",
   "nbconvert_exporter": "python",
   "pygments_lexer": "ipython3",
   "version": "3.7.3"
  }
 },
 "nbformat": 4,
 "nbformat_minor": 2
}
