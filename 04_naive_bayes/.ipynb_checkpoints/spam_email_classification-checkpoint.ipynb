{
 "cells": [
  {
   "cell_type": "code",
   "execution_count": 221,
   "metadata": {},
   "outputs": [],
   "source": [
    "import re\n",
    "import random\n",
    "import numpy as np\n",
    "import math"
   ]
  },
  {
   "cell_type": "code",
   "execution_count": 222,
   "metadata": {},
   "outputs": [],
   "source": [
    "def bag_of_words(documents):\n",
    "    result = set()\n",
    "    for words in documents:\n",
    "        result |= set(words)\n",
    "    return result"
   ]
  },
  {
   "cell_type": "code",
   "execution_count": 223,
   "metadata": {},
   "outputs": [],
   "source": [
    "def word2vec(bag_of_words, words):\n",
    "    result = np.zeros(len(bag_of_words))\n",
    "    \n",
    "    for i, word in enumerate(bag_of_words):\n",
    "        if word in words:\n",
    "            # For every word found, increment by one.\n",
    "            result[i] += 1\n",
    "\n",
    "    return result"
   ]
  },
  {
   "cell_type": "code",
   "execution_count": 224,
   "metadata": {},
   "outputs": [],
   "source": [
    "def tokenize(sentence):\n",
    "    regexp = re.compile('\\W+')\n",
    "    return [word.lower() \n",
    "            for word in regexp.split(sentence)\n",
    "            if len(word) > 2]"
   ]
  },
  {
   "cell_type": "code",
   "execution_count": 225,
   "metadata": {},
   "outputs": [
    {
     "name": "stdout",
     "output_type": "stream",
     "text": [
      "Hello,\n",
      "\n",
      "Since you are an owner of at least one Google Groups group that uses the customized welcome message, pages or files, we are writing to inform you that we will no longer be supporting these features starting February 2011. We made this decision so that we can focus on improving the core functionalities of Google Groups -- mailing lists and forum discussions.  Instead of these features, we encourage you to use products that are designed specifically for file storage and page creation, such as Google Docs and Google Sites.\n",
      "\n",
      "For example, you can easily create your pages on Google Sites and share the site (http://www.google.com/support/sites/bin/answer.py?hl=en&answer=174623) with the members of your group. You can also store your files on the site by attaching files to pages (http://www.google.com/support/sites/bin/answer.py?hl=en&answer=90563) on the site. If youre just looking for a place to upload your files so that your group members can download them, we suggest you try Google Docs. You can upload files (http://docs.google.com/support/bin/answer.py?hl=en&answer=50092) and share access with either a group (http://docs.google.com/support/bin/answer.py?hl=en&answer=66343) or an individual (http://docs.google.com/support/bin/answer.py?hl=en&answer=86152), assigning either edit or download only access to the files.\n",
      "\n",
      "you have received this mandatory email service announcement to update you about important changes to Google Groups.\n",
      "\n",
      "['hello', 'since', 'you', 'are', 'owner', 'least', 'one', 'google', 'groups', 'group', 'that', 'uses', 'the', 'customized', 'welcome', 'message', 'pages', 'files', 'are', 'writing', 'inform', 'you', 'that', 'will', 'longer', 'supporting', 'these', 'features', 'starting', 'february', '2011', 'made', 'this', 'decision', 'that', 'can', 'focus', 'improving', 'the', 'core', 'functionalities', 'google', 'groups', 'mailing', 'lists', 'and', 'forum', 'discussions', 'instead', 'these', 'features', 'encourage', 'you', 'use', 'products', 'that', 'are', 'designed', 'specifically', 'for', 'file', 'storage', 'and', 'page', 'creation', 'such', 'google', 'docs', 'and', 'google', 'sites', 'for', 'example', 'you', 'can', 'easily', 'create', 'your', 'pages', 'google', 'sites', 'and', 'share', 'the', 'site', 'http', 'www', 'google', 'com', 'support', 'sites', 'bin', 'answer', 'answer', '174623', 'with', 'the', 'members', 'your', 'group', 'you', 'can', 'also', 'store', 'your', 'files', 'the', 'site', 'attaching', 'files', 'pages', 'http', 'www', 'google', 'com', 'support', 'sites', 'bin', 'answer', 'answer', '90563', 'the', 'site', 'you', 'just', 'looking', 'for', 'place', 'upload', 'your', 'files', 'that', 'your', 'group', 'members', 'can', 'download', 'them', 'suggest', 'you', 'try', 'google', 'docs', 'you', 'can', 'upload', 'files', 'http', 'docs', 'google', 'com', 'support', 'bin', 'answer', 'answer', '50092', 'and', 'share', 'access', 'with', 'either', 'group', 'http', 'docs', 'google', 'com', 'support', 'bin', 'answer', 'answer', '66343', 'individual', 'http', 'docs', 'google', 'com', 'support', 'bin', 'answer', 'answer', '86152', 'assigning', 'either', 'edit', 'download', 'only', 'access', 'the', 'files', 'you', 'have', 'received', 'this', 'mandatory', 'email', 'service', 'announcement', 'update', 'you', 'about', 'important', 'changes', 'google', 'groups']\n"
     ]
    }
   ],
   "source": [
    "with open('data/email/ham/6.txt', 'r', encoding='latin-1') as f:\n",
    "    text = f.read()\n",
    "    print(text)\n",
    "    print()\n",
    "    print(tokenize(text))"
   ]
  },
  {
   "cell_type": "code",
   "execution_count": 226,
   "metadata": {},
   "outputs": [],
   "source": [
    "X = []\n",
    "y = []\n",
    "fulltext = []\n",
    "\n",
    "for i in range(1, 26):\n",
    "    with open(f'data/email/spam/{i}.txt', 'r', encoding='latin-1') as f:\n",
    "        words = tokenize(f.read())\n",
    "        X.append(words)\n",
    "        y.append(1)\n",
    "        fulltext.extend(words)\n",
    "\n",
    "    with open(f'data/email/ham/{i}.txt', 'r', encoding='latin-1') as f:\n",
    "        words = tokenize(f.read())\n",
    "        X.append(words)\n",
    "        y.append(0)\n",
    "        fulltext.extend(words)"
   ]
  },
  {
   "cell_type": "code",
   "execution_count": 227,
   "metadata": {},
   "outputs": [],
   "source": [
    "bow = bag_of_words(X) # Or set(fulltext)\n",
    "X = np.array([word2vec(bow, X_i) \n",
    "              for X_i in X])"
   ]
  },
  {
   "cell_type": "code",
   "execution_count": 228,
   "metadata": {},
   "outputs": [],
   "source": [
    "indices = list(range(50))\n",
    "train_size = 40\n",
    "random.shuffle(indices)\n",
    "\n",
    "train_indices, test_indices = indices[:train_size], indices[train_size:]\n",
    "\n",
    "X_train, y_train = [], []\n",
    "for i in train_indices:\n",
    "    X_train.append(X[i])\n",
    "    y_train.append(y[i])\n",
    "\n",
    "X_train = np.array(X_train)\n",
    "    \n",
    "X_test, y_test = [], []\n",
    "for i in test_indices:\n",
    "    X_test.append(X[i])\n",
    "    y_test.append(y[i])\n",
    "\n",
    "X_test = np.array(X_test)"
   ]
  },
  {
   "cell_type": "code",
   "execution_count": 229,
   "metadata": {},
   "outputs": [],
   "source": [
    "def train(X, y):\n",
    "    n_samples, n_words = X.shape\n",
    "    p_abusive = sum(y) / n_samples\n",
    "    \n",
    "    p0_num, p1_num = np.ones(n_words), np.ones(n_words)\n",
    "    p0_den, p1_den = 1, 1\n",
    "    \n",
    "    for i in range(n_samples):\n",
    "        if y[i] == 1:\n",
    "            # Matrix addition.\n",
    "            p1_num += X[i]\n",
    "            p1_den += sum(X[i])\n",
    "        else:\n",
    "            p0_num += X[i]\n",
    "            p0_den += sum(X[i])\n",
    "\n",
    "    p1 = np.log(p1_num / p1_den)\n",
    "    p0 = np.log(p0_num / p0_den)\n",
    "    \n",
    "    return p0, p1, p_abusive"
   ]
  },
  {
   "cell_type": "code",
   "execution_count": 230,
   "metadata": {},
   "outputs": [],
   "source": [
    "def classify(X, p0, p1, p_class1):\n",
    "    p1 = sum(X * p1) + math.log(p_class1)\n",
    "    p0 = sum(X * p0) + math.log(1 - p_class1)\n",
    "    return 1 if p1 > p0 else 0"
   ]
  },
  {
   "cell_type": "code",
   "execution_count": 231,
   "metadata": {},
   "outputs": [
    {
     "data": {
      "text/plain": [
       "0.5"
      ]
     },
     "execution_count": 231,
     "metadata": {},
     "output_type": "execute_result"
    }
   ],
   "source": [
    "p0, p1, p_spam = train(X_train, y_train)\n",
    "p_spam"
   ]
  },
  {
   "cell_type": "code",
   "execution_count": 233,
   "metadata": {},
   "outputs": [
    {
     "data": {
      "text/plain": [
       "0.2"
      ]
     },
     "execution_count": 233,
     "metadata": {},
     "output_type": "execute_result"
    }
   ],
   "source": [
    "error = 0\n",
    "for i, X_i in enumerate(X_test):\n",
    "    if classify(X_i, p0, p1, p_spam) != y_test[i]:\n",
    "        error += 1\n",
    "error / len(X_test)"
   ]
  }
 ],
 "metadata": {
  "kernelspec": {
   "display_name": "Python 3",
   "language": "python",
   "name": "python3"
  },
  "language_info": {
   "codemirror_mode": {
    "name": "ipython",
    "version": 3
   },
   "file_extension": ".py",
   "mimetype": "text/x-python",
   "name": "python",
   "nbconvert_exporter": "python",
   "pygments_lexer": "ipython3",
   "version": "3.7.3"
  }
 },
 "nbformat": 4,
 "nbformat_minor": 2
}
