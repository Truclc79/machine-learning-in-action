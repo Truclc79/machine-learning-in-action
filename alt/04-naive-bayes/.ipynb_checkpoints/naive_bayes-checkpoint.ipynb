{
 "cells": [
  {
   "cell_type": "code",
   "execution_count": 85,
   "metadata": {
    "collapsed": true
   },
   "outputs": [],
   "source": [
    "import unittest\n",
    "from functools import reduce\n",
    "import numpy as np"
   ]
  },
  {
   "cell_type": "code",
   "execution_count": 86,
   "metadata": {
    "collapsed": true
   },
   "outputs": [],
   "source": [
    "def load_data():\n",
    "    X = [['my', 'dog', 'has', 'flea', 'problems', 'help', 'pleas'],\n",
    "        ['maybe', 'not', 'take', 'him', 'to', 'dog', 'park', 'stupid'],\n",
    "        ['my', 'dalmatian', 'is', 'so', 'cute', 'I', 'love', 'him'],\n",
    "        ['stop', 'posting', 'stupid', 'worthless', 'garbage'],\n",
    "        ['mr', 'licks', 'ate', 'my', 'steak', 'how', 'to', 'stop', 'him'],\n",
    "        ['quit', 'buying', 'worthless', 'dog', 'food', 'stupid']]\n",
    "    y = [0, 1, 0, 1, 0, 1] # 1 is abusive, 0 is not\n",
    "    return X, y"
   ]
  },
  {
   "cell_type": "code",
   "execution_count": 87,
   "metadata": {
    "collapsed": false
   },
   "outputs": [],
   "source": [
    "def create_vocab_list(dataset):\n",
    "    if (len(dataset) == 0): return []\n",
    "    vocabset = set(reduce(lambda x, y: x + y, dataset))\n",
    "    return list(vocabset)"
   ]
  },
  {
   "cell_type": "code",
   "execution_count": 88,
   "metadata": {
    "collapsed": true
   },
   "outputs": [],
   "source": [
    "def word2vec(vocab_list, words):\n",
    "    return [1 if vocab in words else 0 for vocab in vocab_list]"
   ]
  },
  {
   "cell_type": "code",
   "execution_count": 89,
   "metadata": {
    "collapsed": true
   },
   "outputs": [],
   "source": [
    "def create_train_matrix(vocab_list, X):\n",
    "    return [word2vec(vocab_list, feat) for feat in X]"
   ]
  },
  {
   "cell_type": "code",
   "execution_count": 90,
   "metadata": {
    "collapsed": true
   },
   "outputs": [],
   "source": [
    "def train_naive_bayes(train_matrix, train_category):\n",
    "    num_train_docs = len(train_matrix)\n",
    "    num_words = len(train_matrix[0])\n",
    "    \n",
    "    # prefix p for probabilities\n",
    "    p_abusive = np.sum(train_category) / float(num_train_docs)\n",
    "    p0_num = np.ones(num_words) # np.zeros(num_words)\n",
    "    p1_num = np.ones(num_words) # np.zeros(num_words)\n",
    "    \n",
    "    p0_den = 2.0 # 0.0\n",
    "    p1_den = 2.0 # 0.0\n",
    "    \n",
    "    for i in range(num_train_docs):\n",
    "        if train_category[i] == 1:\n",
    "            p1_num += train_matrix[i]\n",
    "            p1_den += sum(train_matrix[i])\n",
    "        else:\n",
    "            p0_num += train_matrix[i]\n",
    "            p0_den += sum(train_matrix[i])\n",
    "    p0_vect = np.log(p0_num / p0_den)\n",
    "    p1_vect = np.log(p1_num / p1_den)\n",
    "    return p0_vect, p1_vect, p_abusive"
   ]
  },
  {
   "cell_type": "code",
   "execution_count": 91,
   "metadata": {
    "collapsed": true
   },
   "outputs": [],
   "source": [
    "def classify_naive_bayes(vec2_classify, p0_vec, p1_vec, p_class1):\n",
    "    p1 = sum(vec2_classify * p1_vec) + log(p_class1)\n",
    "    p0 = sum(vec2_classify * p0_vec) + log(1.0 - p_class1)\n",
    "    if p1 > p0:\n",
    "        return 1\n",
    "    else:\n",
    "        return 0"
   ]
  },
  {
   "cell_type": "code",
   "execution_count": 101,
   "metadata": {
    "collapsed": false
   },
   "outputs": [
    {
     "name": "stderr",
     "output_type": "stream",
     "text": [
      "........\n",
      "----------------------------------------------------------------------\n",
      "Ran 8 tests in 0.012s\n",
      "\n",
      "OK\n"
     ]
    }
   ],
   "source": [
    "class NaiveBayesTestCase(unittest.TestCase):    \n",
    "    def test_load_data(self):\n",
    "        X, y = load_data()\n",
    "        self.assertEqual(len(X), len(y))\n",
    "\n",
    "    def test_create_vocab_list_with_empty_params(self):\n",
    "        out = create_vocab_list([])\n",
    "        self.assertEqual(out, [])\n",
    "\n",
    "    def test_create_vocab_list_with_params(self):\n",
    "        X_test = [['a', 'b'], ['c', 'd']]\n",
    "        out = create_vocab_list(X_test)\n",
    "        self.assertEqual(len(out), 4)\n",
    "        \n",
    "    def test_word2vec(self):\n",
    "        vocab_list = ['a', 'b', 'c', 'd']\n",
    "        expected = [0, 1, 1, 0]\n",
    "        got = word2vec(vocab_list, ['b', 'c'])\n",
    "        self.assertEqual(expected, got)\n",
    "    \n",
    "    def test_create_train_matrix(self):\n",
    "        X_test = [['a', 'b'], ['c', 'd']]\n",
    "        vocab_list = create_vocab_list(X_test)\n",
    "        got = create_train_matrix(vocab_list, X_test)\n",
    "        self.assertEqual(len(got), 2)\n",
    "    \n",
    "    def test_train_naive_bayes(self):\n",
    "        X_test = [['a', 'a'], ['a', 'b'], ['b', 'c'], ['b', 'c']]\n",
    "        y = [1, 1, 0, 0]\n",
    "        \n",
    "        vocab_list = create_vocab_list(X_test)\n",
    "        train_matrix = create_train_matrix(vocab_list, X_test)\n",
    "        p0, p1, p_abusive = train_naive_bayes(train_matrix, y)\n",
    "        self.assertEqual(p_abusive, 0.5)\n",
    "    \n",
    "    def test_naive_bayes(self):\n",
    "        X, y = load_data()\n",
    "        vocab_list = create_vocab_list(X)\n",
    "        train_matrix = create_train_matrix(vocab_list, X)\n",
    "        p0, p1, p_abusive = train_naive_bayes(train_matrix, y)\n",
    "        \n",
    "        # Test not abusive\n",
    "        X_test = ['love', 'my', 'dalmatian']\n",
    "        y_test = word2vec(vocab_list, X_test)\n",
    "        expected = 0\n",
    "        got = classify_naive_bayes(y_test, p0, p1, p_abusive)\n",
    "        self.assertEqual(expected, got)\n",
    "        \n",
    "        # Test abusive\n",
    "        X_test = ['stupid', 'garbage']\n",
    "        y_test = word2vec(vocab_list, X_test)\n",
    "        expected = 1\n",
    "        got = classify_naive_bayes(y_test, p0, p1, p_abusive)\n",
    "        self.assertEqual(expected, got)\n",
    "        \n",
    "\n",
    "    def test_unique(self):\n",
    "        items = [1, 1, 2]\n",
    "        unique = list(set(items))\n",
    "        self.assertEqual(unique, [1,2])\n",
    "\n",
    "if __name__ == '__main__':\n",
    "    unittest.main(argv=['first-arg-is-ignored'], exit=False)"
   ]
  },
  {
   "cell_type": "code",
   "execution_count": 93,
   "metadata": {
    "collapsed": false
   },
   "outputs": [
    {
     "data": {
      "text/plain": [
       "([['my', 'dog', 'has', 'flea', 'problems', 'help', 'pleas'],\n",
       "  ['maybe', 'not', 'take', 'him', 'to', 'dog', 'park', 'stupid'],\n",
       "  ['my', 'dalmatian', 'is', 'so', 'cute', 'I', 'love', 'him'],\n",
       "  ['stop', 'posting', 'stupid', 'worthless', 'garbage'],\n",
       "  ['mr', 'licks', 'ate', 'my', 'steak', 'how', 'to', 'stop', 'him'],\n",
       "  ['quit', 'buying', 'worthless', 'dog', 'food', 'stupid']],\n",
       " [0, 1, 0, 1, 0, 1])"
      ]
     },
     "execution_count": 93,
     "metadata": {},
     "output_type": "execute_result"
    }
   ],
   "source": [
    "X, y = load_data()\n",
    "X, y"
   ]
  },
  {
   "cell_type": "code",
   "execution_count": 94,
   "metadata": {
    "collapsed": false
   },
   "outputs": [
    {
     "data": {
      "text/plain": [
       "['flea',\n",
       " 'mr',\n",
       " 'so',\n",
       " 'steak',\n",
       " 'licks',\n",
       " 'pleas',\n",
       " 'him',\n",
       " 'love',\n",
       " 'take',\n",
       " 'dog',\n",
       " 'how',\n",
       " 'stupid',\n",
       " 'ate',\n",
       " 'buying',\n",
       " 'food',\n",
       " 'worthless',\n",
       " 'garbage',\n",
       " 'quit',\n",
       " 'help',\n",
       " 'park',\n",
       " 'my',\n",
       " 'problems',\n",
       " 'stop',\n",
       " 'cute',\n",
       " 'not',\n",
       " 'is',\n",
       " 'posting',\n",
       " 'has',\n",
       " 'maybe',\n",
       " 'to',\n",
       " 'I',\n",
       " 'dalmatian']"
      ]
     },
     "execution_count": 94,
     "metadata": {},
     "output_type": "execute_result"
    }
   ],
   "source": [
    "vocab_list = create_vocab_list(X)\n",
    "vocab_list"
   ]
  },
  {
   "cell_type": "code",
   "execution_count": 95,
   "metadata": {
    "collapsed": false
   },
   "outputs": [
    {
     "name": "stdout",
     "output_type": "stream",
     "text": [
      "row 0 -> [1, 0, 0, 0, 0, 1, 0, 0, 0, 1, 0, 0, 0, 0, 0, 0, 0, 0, 1, 0, 1, 1, 0, 0, 0, 0, 0, 1, 0, 0, 0, 0]\n",
      "row 1 -> [0, 0, 0, 0, 0, 0, 1, 0, 1, 1, 0, 1, 0, 0, 0, 0, 0, 0, 0, 1, 0, 0, 0, 0, 1, 0, 0, 0, 1, 1, 0, 0]\n",
      "row 2 -> [0, 0, 1, 0, 0, 0, 1, 1, 0, 0, 0, 0, 0, 0, 0, 0, 0, 0, 0, 0, 1, 0, 0, 1, 0, 1, 0, 0, 0, 0, 1, 1]\n",
      "row 3 -> [0, 0, 0, 0, 0, 0, 0, 0, 0, 0, 0, 1, 0, 0, 0, 1, 1, 0, 0, 0, 0, 0, 1, 0, 0, 0, 1, 0, 0, 0, 0, 0]\n",
      "row 4 -> [0, 1, 0, 1, 1, 0, 1, 0, 0, 0, 1, 0, 1, 0, 0, 0, 0, 0, 0, 0, 1, 0, 1, 0, 0, 0, 0, 0, 0, 1, 0, 0]\n",
      "row 5 -> [0, 0, 0, 0, 0, 0, 0, 0, 0, 1, 0, 1, 0, 1, 1, 1, 0, 1, 0, 0, 0, 0, 0, 0, 0, 0, 0, 0, 0, 0, 0, 0]\n"
     ]
    }
   ],
   "source": [
    "for i, v in enumerate(X):\n",
    "    print('row {} -> {}'.format(i, word2vec(vocab_list, v)))"
   ]
  },
  {
   "cell_type": "code",
   "execution_count": 96,
   "metadata": {
    "collapsed": false
   },
   "outputs": [
    {
     "data": {
      "text/plain": [
       "[[1,\n",
       "  0,\n",
       "  0,\n",
       "  0,\n",
       "  0,\n",
       "  1,\n",
       "  0,\n",
       "  0,\n",
       "  0,\n",
       "  1,\n",
       "  0,\n",
       "  0,\n",
       "  0,\n",
       "  0,\n",
       "  0,\n",
       "  0,\n",
       "  0,\n",
       "  0,\n",
       "  1,\n",
       "  0,\n",
       "  1,\n",
       "  1,\n",
       "  0,\n",
       "  0,\n",
       "  0,\n",
       "  0,\n",
       "  0,\n",
       "  1,\n",
       "  0,\n",
       "  0,\n",
       "  0,\n",
       "  0],\n",
       " [0,\n",
       "  0,\n",
       "  0,\n",
       "  0,\n",
       "  0,\n",
       "  0,\n",
       "  1,\n",
       "  0,\n",
       "  1,\n",
       "  1,\n",
       "  0,\n",
       "  1,\n",
       "  0,\n",
       "  0,\n",
       "  0,\n",
       "  0,\n",
       "  0,\n",
       "  0,\n",
       "  0,\n",
       "  1,\n",
       "  0,\n",
       "  0,\n",
       "  0,\n",
       "  0,\n",
       "  1,\n",
       "  0,\n",
       "  0,\n",
       "  0,\n",
       "  1,\n",
       "  1,\n",
       "  0,\n",
       "  0],\n",
       " [0,\n",
       "  0,\n",
       "  1,\n",
       "  0,\n",
       "  0,\n",
       "  0,\n",
       "  1,\n",
       "  1,\n",
       "  0,\n",
       "  0,\n",
       "  0,\n",
       "  0,\n",
       "  0,\n",
       "  0,\n",
       "  0,\n",
       "  0,\n",
       "  0,\n",
       "  0,\n",
       "  0,\n",
       "  0,\n",
       "  1,\n",
       "  0,\n",
       "  0,\n",
       "  1,\n",
       "  0,\n",
       "  1,\n",
       "  0,\n",
       "  0,\n",
       "  0,\n",
       "  0,\n",
       "  1,\n",
       "  1],\n",
       " [0,\n",
       "  0,\n",
       "  0,\n",
       "  0,\n",
       "  0,\n",
       "  0,\n",
       "  0,\n",
       "  0,\n",
       "  0,\n",
       "  0,\n",
       "  0,\n",
       "  1,\n",
       "  0,\n",
       "  0,\n",
       "  0,\n",
       "  1,\n",
       "  1,\n",
       "  0,\n",
       "  0,\n",
       "  0,\n",
       "  0,\n",
       "  0,\n",
       "  1,\n",
       "  0,\n",
       "  0,\n",
       "  0,\n",
       "  1,\n",
       "  0,\n",
       "  0,\n",
       "  0,\n",
       "  0,\n",
       "  0],\n",
       " [0,\n",
       "  1,\n",
       "  0,\n",
       "  1,\n",
       "  1,\n",
       "  0,\n",
       "  1,\n",
       "  0,\n",
       "  0,\n",
       "  0,\n",
       "  1,\n",
       "  0,\n",
       "  1,\n",
       "  0,\n",
       "  0,\n",
       "  0,\n",
       "  0,\n",
       "  0,\n",
       "  0,\n",
       "  0,\n",
       "  1,\n",
       "  0,\n",
       "  1,\n",
       "  0,\n",
       "  0,\n",
       "  0,\n",
       "  0,\n",
       "  0,\n",
       "  0,\n",
       "  1,\n",
       "  0,\n",
       "  0],\n",
       " [0,\n",
       "  0,\n",
       "  0,\n",
       "  0,\n",
       "  0,\n",
       "  0,\n",
       "  0,\n",
       "  0,\n",
       "  0,\n",
       "  1,\n",
       "  0,\n",
       "  1,\n",
       "  0,\n",
       "  1,\n",
       "  1,\n",
       "  1,\n",
       "  0,\n",
       "  1,\n",
       "  0,\n",
       "  0,\n",
       "  0,\n",
       "  0,\n",
       "  0,\n",
       "  0,\n",
       "  0,\n",
       "  0,\n",
       "  0,\n",
       "  0,\n",
       "  0,\n",
       "  0,\n",
       "  0,\n",
       "  0]]"
      ]
     },
     "execution_count": 96,
     "metadata": {},
     "output_type": "execute_result"
    }
   ],
   "source": [
    "create_train_matrix(vocab_list, X)"
   ]
  },
  {
   "cell_type": "code",
   "execution_count": null,
   "metadata": {
    "collapsed": true
   },
   "outputs": [],
   "source": []
  }
 ],
 "metadata": {
  "kernelspec": {
   "display_name": "Python 3",
   "language": "python",
   "name": "python3"
  },
  "language_info": {
   "codemirror_mode": {
    "name": "ipython",
    "version": 3
   },
   "file_extension": ".py",
   "mimetype": "text/x-python",
   "name": "python",
   "nbconvert_exporter": "python",
   "pygments_lexer": "ipython3",
   "version": "3.6.4"
  }
 },
 "nbformat": 4,
 "nbformat_minor": 2
}
